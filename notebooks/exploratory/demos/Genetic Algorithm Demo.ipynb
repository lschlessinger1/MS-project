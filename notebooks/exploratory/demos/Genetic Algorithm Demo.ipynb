{
 "cells": [
  {
   "cell_type": "markdown",
   "metadata": {},
   "source": [
    "# Max One Genetic Algorithm Solution\n",
    "The objective in the Max One problem is to maximize the number of ones in a string of `k` binary digits. \n",
    "\n",
    "An individual is encoded as a string of `l` binary digits. \n",
    "\n",
    "For example, suppose `l=8`.\n",
    "An individual in the population could be `10100111`\n",
    "and the target would be `11111111`"
   ]
  },
  {
   "cell_type": "markdown",
   "metadata": {},
   "source": [
    "## Genetic Algorithm Overview\n",
    "\n",
    "Here is the pipeline for any Genetic Algorithm\n",
    "\n",
    "```\n",
    "Create population of m individuals\n",
    "\n",
    "for i = 1...budget\n",
    "    Compute Fitness\n",
    "    Parent Selection\n",
    "    Reproduction\n",
    "        Crossover \n",
    "        Mutation\n",
    "    Survival Selection\n",
    "```"
   ]
  },
  {
   "cell_type": "code",
   "execution_count": 1,
   "metadata": {},
   "outputs": [],
   "source": [
    "import numpy as np\n",
    "import matplotlib.pyplot as plt"
   ]
  },
  {
   "cell_type": "markdown",
   "metadata": {},
   "source": [
    "## Define Constants"
   ]
  },
  {
   "cell_type": "code",
   "execution_count": 2,
   "metadata": {},
   "outputs": [],
   "source": [
    "budget = 1000\n",
    "n_individuals = 10"
   ]
  },
  {
   "cell_type": "markdown",
   "metadata": {},
   "source": [
    "## Define Objective Fitness\n",
    "We are trying to minimize the Hamming distance between some binary string `x` and an all-ones binary string `y`. This is equivalent to maximizing the number of `1`s in `x`."
   ]
  },
  {
   "cell_type": "code",
   "execution_count": 3,
   "metadata": {},
   "outputs": [],
   "source": [
    "def hamming_dist(x, y):\n",
    "    ''' Computes the Hamming distance\n",
    "    '''\n",
    "    \n",
    "    n_unequal = sum(x - y == 0)\n",
    "    n_tot = len(x)\n",
    "    \n",
    "    return n_unequal / n_tot\n",
    "\n",
    "def fitness(x):\n",
    "    ''' The fitness objective\n",
    "    '''\n",
    "    \n",
    "    target = np.ones(x.shape)\n",
    "    \n",
    "    return hamming_dist(x, target)"
   ]
  },
  {
   "cell_type": "markdown",
   "metadata": {},
   "source": [
    "## Initialization"
   ]
  },
  {
   "cell_type": "code",
   "execution_count": 4,
   "metadata": {},
   "outputs": [],
   "source": [
    "def create_population(size, genotype_size=8):\n",
    "    '''Randomly initializes population\n",
    "    \n",
    "    genotype_size: number of bits\n",
    "    '''\n",
    "    \n",
    "    return np.random.randint(2, size=(size, genotype_size), dtype=np.uint8)"
   ]
  },
  {
   "cell_type": "markdown",
   "metadata": {},
   "source": [
    "Here's an example population"
   ]
  },
  {
   "cell_type": "code",
   "execution_count": 5,
   "metadata": {},
   "outputs": [
    {
     "data": {
      "text/plain": [
       "array([[0, 1, 0, 1, 0, 0, 0, 0],\n",
       "       [1, 0, 0, 0, 1, 1, 0, 0],\n",
       "       [1, 1, 1, 0, 1, 0, 0, 1],\n",
       "       [0, 0, 1, 0, 1, 0, 1, 1],\n",
       "       [0, 0, 0, 1, 0, 1, 0, 0],\n",
       "       [1, 0, 1, 0, 1, 0, 1, 1],\n",
       "       [1, 1, 1, 0, 1, 1, 0, 0],\n",
       "       [0, 0, 1, 0, 1, 0, 0, 0],\n",
       "       [0, 1, 1, 0, 1, 0, 1, 1],\n",
       "       [1, 1, 0, 1, 1, 0, 1, 1]], dtype=uint8)"
      ]
     },
     "execution_count": 5,
     "metadata": {},
     "output_type": "execute_result"
    }
   ],
   "source": [
    "create_population(n_individuals, genotype_size=8)"
   ]
  },
  {
   "cell_type": "markdown",
   "metadata": {},
   "source": [
    "## Parent Selection"
   ]
  },
  {
   "cell_type": "code",
   "execution_count": 6,
   "metadata": {},
   "outputs": [],
   "source": [
    "def select_parents(population, fitnesses, n_parents):\n",
    "    '''Fitness-Proportionate Selection\n",
    "    '''\n",
    "    \n",
    "    probabilities = fitnesses / np.sum(fitnesses)\n",
    "    parent_idxs = np.random.choice(population.shape[0], size=n_parents, replace=True, p=probabilities)\n",
    "    parents = population[parent_idxs]\n",
    "    \n",
    "    return parents"
   ]
  },
  {
   "cell_type": "markdown",
   "metadata": {},
   "source": [
    "## Variation: Crossover & Mutation"
   ]
  },
  {
   "cell_type": "code",
   "execution_count": 7,
   "metadata": {},
   "outputs": [],
   "source": [
    "def vary(parents, n_offspring):\n",
    "    ''' Perform both crossover and mutation\n",
    "    '''\n",
    "    \n",
    "    offspring = crossover(parents, n_offspring)\n",
    "    offpring = mutation(offspring)\n",
    "    \n",
    "    return offspring\n",
    "\n",
    "\n",
    "#############################\n",
    "######### Crossover #########\n",
    "def crossover(parents, n_offspring, cprob=1.):\n",
    "    '''One-point crossover applied to all parents\n",
    "    \n",
    "    cprob: probability of crossover\n",
    "    '''\n",
    "\n",
    "    offspring = parents[:n_offspring].copy()\n",
    "\n",
    "    for i in range(1, n_offspring, 2):\n",
    "        if np.random.rand() < cprob:\n",
    "            child_1, child_2 = reproduce(parents[i - 1], parents[i])\n",
    "            offspring[i - 1] = child_1\n",
    "            offspring[i] = child_2\n",
    "        \n",
    "    return offspring\n",
    "\n",
    "\n",
    "def reproduce(parent_1, parent_2):\n",
    "    '''One-point crossover\n",
    "    '''\n",
    "    \n",
    "    gene_size = parent_1.shape[0]\n",
    "    crossover_point = np.random.randint(0, gene_size)\n",
    "    child_1 = np.hstack((parent_1[:crossover_point], parent_2[crossover_point:]))\n",
    "    child_2 = np.hstack((parent_1[crossover_point:], parent_2[:crossover_point]))\n",
    "\n",
    "    return child_1, child_2\n",
    "    \n",
    "#############################\n",
    "######### Mutation ##########\n",
    "def mutation(offspring, mprob=1.):\n",
    "    '''Bit-flip mutation applied to all offspring\n",
    "    \n",
    "    mprob: probability of mutation\n",
    "    '''\n",
    "    \n",
    "    offspring_mut = offspring.copy()\n",
    "    for child in offspring_mut:\n",
    "        if np.random.rand() < mprob:\n",
    "            child = mutate(child)\n",
    "        \n",
    "    return offspring_mut\n",
    "\n",
    "\n",
    "def mutate(individual):\n",
    "    '''Bit-flip mutation\n",
    "    '''\n",
    "    \n",
    "    indiv_mut = individual.copy()\n",
    "    random_gene = np.random.randint(individual.shape[0])\n",
    "    indiv_mut[random_gene] = 0 if indiv_mut[random_gene] is 1 else 0\n",
    "    \n",
    "    return indiv_mut"
   ]
  },
  {
   "cell_type": "markdown",
   "metadata": {},
   "source": [
    "## Survival Selection"
   ]
  },
  {
   "cell_type": "code",
   "execution_count": 8,
   "metadata": {},
   "outputs": [],
   "source": [
    "def select_survivors(offspring, fitnesses, k):\n",
    "    '''Truncation selection \n",
    "    \n",
    "    Select k best offspring according to fitnesses.\n",
    "    \n",
    "    k: number of survivors\n",
    "    '''\n",
    "    \n",
    "    top_k_idxs = np.argpartition(fitnesses, -k)[-k:]\n",
    "    survivors = offspring[top_k_idxs]\n",
    "    \n",
    "    return survivors"
   ]
  },
  {
   "cell_type": "markdown",
   "metadata": {},
   "source": [
    "## Run Genetic Algorithm"
   ]
  },
  {
   "cell_type": "code",
   "execution_count": 9,
   "metadata": {},
   "outputs": [],
   "source": [
    "population = create_population(n_individuals, genotype_size=64)\n",
    "\n",
    "# store an extra value because we want to store the max before and after running the GA\n",
    "best_so_far = np.zeros(budget + 1)\n",
    "\n",
    "for i in range(budget):\n",
    "    fitnesses = [fitness(parent) for parent in population]\n",
    "    # save the maximum fitness for each generation\n",
    "    best_so_far[i] = max(fitnesses)\n",
    "    \n",
    "    parents = select_parents(population, fitnesses, n_parents=n_individuals)\n",
    "    \n",
    "    offspring = vary(parents, n_offspring=10)\n",
    "    \n",
    "    population = select_survivors(offspring, fitnesses, k=10)\n",
    "\n",
    "# recompute fitnesses for the last generation\n",
    "fitnesses = [fitness(parent) for parent in population]\n",
    "best_so_far[-1] = max(fitnesses)"
   ]
  },
  {
   "cell_type": "markdown",
   "metadata": {},
   "source": [
    "## View Results\n",
    "Let's view the maximum fitness value at each generation"
   ]
  },
  {
   "cell_type": "code",
   "execution_count": 10,
   "metadata": {},
   "outputs": [
    {
     "data": {
      "image/png": "[encoded data removed]",
      "text/plain": [
       "<Figure size 432x288 with 1 Axes>"
      ]
     },
     "metadata": {},
     "output_type": "display_data"
    }
   ],
   "source": [
    "plt.title('Best-So-Far Curve')\n",
    "plt.plot(best_so_far)\n",
    "plt.xlabel('Generation')\n",
    "plt.ylabel('Fitness Best So Far')\n",
    "plt.show()"
   ]
  }
 ],
 "metadata": {
  "kernelspec": {
   "display_name": "Python 3",
   "language": "python",
   "name": "python3"
  },
  "language_info": {
   "codemirror_mode": {
    "name": "ipython",
    "version": 3
   },
   "file_extension": ".py",
   "mimetype": "text/x-python",
   "name": "python",
   "nbconvert_exporter": "python",
   "pygments_lexer": "ipython3",
   "version": "3.6.6"
  }
 },
 "nbformat": 4,
 "nbformat_minor": 2
}
