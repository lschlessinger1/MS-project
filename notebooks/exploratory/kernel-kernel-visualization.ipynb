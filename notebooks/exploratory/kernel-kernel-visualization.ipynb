{
 "cells": [
  {
   "cell_type": "markdown",
   "metadata": {},
   "source": [
    "# Kernel Kernel Visualization"
   ]
  },
  {
   "cell_type": "code",
   "execution_count": 1,
   "metadata": {
    "pycharm": {
     "is_executing": false
    }
   },
   "outputs": [],
   "source": [
    "import matplotlib.pyplot as plt\n",
    "import numpy as np\n",
    "from GPy import likelihoods\n",
    "from GPy.core.parameterization.priors import Gaussian\n",
    "from GPy.kern import RBFDistanceBuilderKernelKernel\n",
    "\n",
    "from src.autoks.core.gp_model import GPModel\n",
    "from src.autoks.core.grammar import BomsGrammar\n",
    "from src.autoks.distance.distance import FrobeniusDistanceBuilder, ActiveModels"
   ]
  },
  {
   "cell_type": "markdown",
   "metadata": {},
   "source": [
    "## Define helper functions"
   ]
  },
  {
   "cell_type": "code",
   "execution_count": 2,
   "metadata": {
    "pycharm": {
     "is_executing": false,
     "name": "#%%\n"
    }
   },
   "outputs": [],
   "source": [
    "def covariances_to_gp_models(covariances):\n",
    "    lik = likelihoods.Gaussian()\n",
    "    gp_models = [GPModel(cov, lik) for cov in covariances]\n",
    "    return gp_models"
   ]
  },
  {
   "cell_type": "markdown",
   "metadata": {},
   "source": [
    "## Create kernels and data"
   ]
  },
  {
   "cell_type": "code",
   "execution_count": 3,
   "metadata": {
    "pycharm": {
     "is_executing": false,
     "name": "#%%\n"
    }
   },
   "outputs": [],
   "source": [
    "# SE, RQ, PER, SE + PER\n",
    "grammar = BomsGrammar(base_kernel_names=['SE', 'RQ', 'PER'])\n",
    "grammar.build(1)\n",
    "se, rq, per = grammar.base_kernels\n",
    "se_plus_per = se + per\n",
    "\n",
    "data_x = np.linspace(0., 1., 100)\n",
    "data_x = data_x[:, None]\n",
    "data_y = data_x ** 2"
   ]
  },
  {
   "cell_type": "markdown",
   "metadata": {},
   "source": [
    "## Define parameters"
   ]
  },
  {
   "cell_type": "code",
   "execution_count": 4,
   "metadata": {
    "pycharm": {
     "is_executing": false,
     "name": "#%%s\n"
    }
   },
   "outputs": [],
   "source": [
    "max_n_models = 1000\n",
    "num_samples = 20\n",
    "max_num_hyperparameters = 40\n",
    "noise_prior = Gaussian(np.log(0.01), np.sqrt(0.1))"
   ]
  },
  {
   "cell_type": "markdown",
   "metadata": {},
   "source": [
    "## Create Active Model Set"
   ]
  },
  {
   "cell_type": "code",
   "execution_count": 5,
   "metadata": {
    "pycharm": {
     "is_executing": false,
     "name": "#%%\n"
    }
   },
   "outputs": [],
   "source": [
    "selected_models = covariances_to_gp_models([se, rq, per, se_plus_per])\n",
    "\n",
    "active_models = ActiveModels(max_n_models)\n",
    "newly_inserted_indices = active_models.update(selected_models)\n",
    "active_models.selected_indices = newly_inserted_indices\n"
   ]
  },
  {
   "cell_type": "markdown",
   "metadata": {},
   "source": [
    "## Create Distance Builder"
   ]
  },
  {
   "cell_type": "code",
   "execution_count": 6,
   "metadata": {
    "pycharm": {
     "is_executing": false
    }
   },
   "outputs": [],
   "source": [
    "initial_candidate_indices = newly_inserted_indices\n",
    "kernel_builder = FrobeniusDistanceBuilder(noise_prior, \n",
    "                                          num_samples, \n",
    "                                          max_num_hyperparameters, \n",
    "                                          max_n_models, \n",
    "                                          active_models, \n",
    "                                          initial_candidate_indices,\n",
    "                                          data_x)\n",
    "\n",
    "kernel_builder.compute_distance(active_models, initial_candidate_indices, initial_candidate_indices)"
   ]
  },
  {
   "cell_type": "markdown",
   "metadata": {},
   "source": [
    "## Visualize Distance Matrix"
   ]
  },
  {
   "cell_type": "code",
   "execution_count": 7,
   "metadata": {
    "pycharm": {
     "is_executing": false,
     "name": "#%%\n"
    }
   },
   "outputs": [
    {
     "name": "stdout",
     "text": [
      "Frobenius distance: \n [[0.      0.18809 0.21726 0.2755 ]\n [0.18809 0.      0.07481 0.29743]\n [0.21726 0.07481 0.      0.30583]\n [0.2755  0.29743 0.30583 0.     ]]\n"
     ],
     "output_type": "stream"
    },
    {
     "data": {
      "text/plain": "<matplotlib.image.AxesImage at 0x1a416a47358>"
     },
     "metadata": {},
     "output_type": "execute_result",
     "execution_count": 7
    },
    {
     "data": {
      "text/plain": "<Figure size 432x288 with 1 Axes>",
      "image/png": "[encoded data removed]"
     },
     "metadata": {
      "needs_background": "light"
     },
     "output_type": "display_data"
    }
   ],
   "source": [
    "kernel_matrix = kernel_builder.get_kernel(len(active_models))\n",
    "with np.printoptions(precision=5, suppress=True):\n",
    "    print('Frobenius distance: \\n', kernel_matrix)\n",
    "\n",
    "plt.imshow(kernel_matrix, cmap='Blues')"
   ]
  },
  {
   "cell_type": "markdown",
   "metadata": {},
   "source": [
    "## Visualize Kernel Kernel"
   ]
  },
  {
   "cell_type": "code",
   "execution_count": 8,
   "metadata": {
    "pycharm": {
     "is_executing": false,
     "name": "#%%\n"
    }
   },
   "outputs": [
    {
     "name": "stdout",
     "text": [
      "Kernel kernel: \n [[1.      0.98247 0.97667 0.96276]\n [0.98247 1.      0.99721 0.95673]\n [0.97667 0.99721 1.      0.95431]\n [0.96276 0.95673 0.95431 1.     ]]\n"
     ],
     "output_type": "stream"
    },
    {
     "data": {
      "text/plain": "<Figure size 432x288 with 1 Axes>",
      "image/png": "[encoded data removed]"
     },
     "metadata": {
      "needs_background": "light"
     },
     "output_type": "display_data"
    }
   ],
   "source": [
    "kernel_kernel = RBFDistanceBuilderKernelKernel(kernel_builder, n_models=len(active_models))\n",
    "\n",
    "x_pred = np.array(initial_candidate_indices)\n",
    "x_pred = x_pred[:, None]\n",
    "kernel_kernel_matrix = kernel_kernel.K(x_pred)\n",
    "plt.imshow(kernel_kernel_matrix, cmap='Blues')\n",
    "with np.printoptions(precision=5, suppress=True):\n",
    "    print(\"Kernel kernel: \\n\", kernel_kernel_matrix)"
   ]
  }
 ],
 "metadata": {
  "kernelspec": {
   "display_name": "Python 3",
   "language": "python",
   "name": "python3"
  },
  "language_info": {
   "codemirror_mode": {
    "name": "ipython",
    "version": 3
   },
   "file_extension": ".py",
   "mimetype": "text/x-python",
   "name": "python",
   "nbconvert_exporter": "python",
   "pygments_lexer": "ipython3",
   "version": "3.6.9"
  },
  "pycharm": {
   "stem_cell": {
    "cell_type": "raw",
    "source": [],
    "metadata": {
     "collapsed": false
    }
   }
  }
 },
 "nbformat": 4,
 "nbformat_minor": 1
}