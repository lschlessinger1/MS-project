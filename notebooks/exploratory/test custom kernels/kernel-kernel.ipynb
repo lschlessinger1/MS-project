{
  "cells": [
    {
      "cell_type": "markdown",
      "metadata": {
        "pycharm": {}
      },
      "source": [
        "# Implementation of a \u0027Kernel Kernel\u0027\n",
        "\n",
        "It can take any arbitrary distance metric."
      ]
    },
    {
      "cell_type": "code",
      "execution_count": 1,
      "metadata": {
        "pycharm": {}
      },
      "outputs": [],
      "source": [
        "from GPy.kern import Kern\n",
        "from GPy.kern.src.stationary import Stationary\n",
        "from paramz.transformations import Logexp\n",
        "from paramz.caching import Cache_this\n",
        "from GPy.kern.src.psi_comp import PSICOMP_RBF, PSICOMP_RBF_GPU\n",
        "from GPy.core import Param\n",
        "\n",
        "# non-standard imports\n",
        "from typing import List\n",
        "from scipy.spatial.distance import cdist"
      ]
    },
    {
      "cell_type": "code",
      "execution_count": 2,
      "metadata": {
        "pycharm": {}
      },
      "outputs": [],
      "source": "class KernelKernel(Stationary):\n    \"\"\"Kernel kernel\"\"\"\n    _support_GPU \u003d True\n    def __init__(self, distance_metric, dm_kwargs_dict\u003dNone, input_dim\u003d1, variance\u003d1., lengthscale\u003dNone, ARD\u003dFalse, active_dims\u003dNone, name\u003d\u0027kernel_kernel\u0027, useGPU\u003dFalse, inv_l\u003dFalse):\n        super(KernelKernel, self).__init__(input_dim, variance, lengthscale, ARD, active_dims, name, useGPU\u003duseGPU)\n        if self.useGPU:\n            self.psicomp \u003d PSICOMP_RBF_GPU()\n        else:\n            self.psicomp \u003d PSICOMP_RBF()\n        self.use_invLengthscale \u003d inv_l\n        if inv_l:\n            self.unlink_parameter(self.lengthscale)\n            self.inv_l \u003d Param(\u0027inv_lengthscale\u0027,1./self.lengthscale**2, Logexp())\n            self.link_parameter(self.inv_l)\n            \n        self.dist_metric \u003d distance_metric\n        if dm_kwargs_dict is None:\n            self.dm_kwargs_dict \u003d dict()\n        else:\n            self.dm_kwargs_dict \u003d dm_kwargs_dict\n            \n    ### overrride this\n    \n    def _unscaled_dist(self, X, X2\u003dNone):\n        \"\"\"\n        Compute the Euclidean distance between each row of X and X2, or between\n        each pair of rows of X if X2 is None.\n        \"\"\"\n        if X2 is None:\n            X2 \u003d X\n        r \u003d cdist(X, X2, self.dist_metric, **self.dm_kwargs_dict)\n        return r\n    \n    \n    ### overrride this\n    @Cache_this(limit\u003d3, ignore_args\u003d())\n    def _scaled_dist(self, X, X2\u003dNone):\n        \"\"\"\n        Efficiently compute the scaled distance, r.\n\n        ..math::\n            r \u003d \\sqrt( \\sum_{q\u003d1}^Q (x_q - x\u0027q)^2/l_q^2 )\n\n        Note that if thre is only one lengthscale, l comes outside the sum. In\n        this case we compute the unscaled distance first (in a separate\n        function for caching) and divide by lengthscale afterwards\n\n        \"\"\"\n        if self.ARD:\n            # FIXME: currently ARD has no effect because input dim always \u003d 1\n#             if X2 is not None:\n#                 X2 \u003d X2 / self.lengthscale\n#             return self._unscaled_dist(X/self.lengthscale, X2)\n            return self._unscaled_dist(X, X2)/self.lengthscale\n        else:\n            return self._unscaled_dist(X, X2)/self.lengthscale\n    \n    ###\n\n    def to_dict(self):\n        \"\"\"\n        Convert the object into a json serializable dictionary.\n\n        Note: It uses the private method _save_to_input_dict of the parent.\n\n        :return dict: json serializable dictionary containing the needed information to instantiate the object\n        \"\"\"\n\n        input_dict \u003d super(KernelKernel, self)._save_to_input_dict()\n        input_dict[\"class\"] \u003d \"GPy.kern.KernelKernel\"\n        input_dict[\"inv_l\"] \u003d self.use_invLengthscale\n        if input_dict[\"inv_l\"] \u003d\u003d True:\n            input_dict[\"lengthscale\"] \u003d np.sqrt(1 / float(self.inv_l))\n        return input_dict\n\n    def K_of_r(self, r):\n        return self.variance * np.exp(-0.5 * r**2)\n\n    def dK_dr(self, r):\n        return -r*self.K_of_r(r)\n\n    def dK2_drdr(self, r):\n        return (r**2-1)*self.K_of_r(r)\n\n    def dK2_drdr_diag(self):\n        return -self.variance # as the diagonal of r is always filled with zeros\n\n    def __getstate__(self):\n        dc \u003d super(KernelKernel, self).__getstate__()\n        if self.useGPU:\n            dc[\u0027psicomp\u0027] \u003d PSICOMP_RBF()\n            dc[\u0027useGPU\u0027] \u003d False\n        return dc\n\n    def __setstate__(self, state):\n        self.use_invLengthscale \u003d False\n        return super(KernelKernel, self).__setstate__(state)\n\n    def spectrum(self, omega):\n        assert self.input_dim \u003d\u003d 1 #TODO: higher dim spectra?\n        return self.variance*np.sqrt(2*np.pi)*self.lengthscale*np.exp(-self.lengthscale*2*omega**2/2)\n\n    def parameters_changed(self):\n        if self.use_invLengthscale: self.lengthscale[:] \u003d 1./np.sqrt(self.inv_l+1e-200)\n        super(KernelKernel, self).parameters_changed()\n\n    #---------------------------------------#\n    #             PSI statistics            #\n    #---------------------------------------#\n\n    def psi0(self, Z, variational_posterior):\n        return self.psicomp.psicomputations(self, Z, variational_posterior)[0]\n\n    def psi1(self, Z, variational_posterior):\n        return self.psicomp.psicomputations(self, Z, variational_posterior)[1]\n\n    def psi2(self, Z, variational_posterior):\n        return self.psicomp.psicomputations(self, Z, variational_posterior, return_psi2_n\u003dFalse)[2]\n\n    def psi2n(self, Z, variational_posterior):\n        return self.psicomp.psicomputations(self, Z, variational_posterior, return_psi2_n\u003dTrue)[2]\n\n    def update_gradients_expectations(self, dL_dpsi0, dL_dpsi1, dL_dpsi2, Z, variational_posterior):\n        dL_dvar, dL_dlengscale \u003d self.psicomp.psiDerivativecomputations(self, dL_dpsi0, dL_dpsi1, dL_dpsi2, Z, variational_posterior)[:2]\n        self.variance.gradient \u003d dL_dvar\n        self.lengthscale.gradient \u003d dL_dlengscale\n        if self.use_invLengthscale:\n            self.inv_l.gradient \u003d dL_dlengscale*(self.lengthscale**3/-2.)\n\n    def gradients_Z_expectations(self, dL_dpsi0, dL_dpsi1, dL_dpsi2, Z, variational_posterior):\n        return self.psicomp.psiDerivativecomputations(self, dL_dpsi0, dL_dpsi1, dL_dpsi2, Z, variational_posterior)[2]\n\n    def gradients_qX_expectations(self, dL_dpsi0, dL_dpsi1, dL_dpsi2, Z, variational_posterior):\n        return self.psicomp.psiDerivativecomputations(self, dL_dpsi0, dL_dpsi1, dL_dpsi2, Z, variational_posterior)[3:]\n\n    def update_gradients_diag(self, dL_dKdiag, X):\n        super(KernelKernel,self).update_gradients_diag(dL_dKdiag, X)\n        if self.use_invLengthscale: self.inv_l.gradient \u003dself.lengthscale.gradient*(self.lengthscale**3/-2.)\n\n    def update_gradients_full(self, dL_dK, X, X2\u003dNone):\n        super(KernelKernel,self).update_gradients_full(dL_dK, X, X2)\n        if self.use_invLengthscale: self.inv_l.gradient \u003dself.lengthscale.gradient*(self.lengthscale**3/-2.)"
    },
    {
      "cell_type": "markdown",
      "metadata": {
        "pycharm": {}
      },
      "source": [
        "### Demo "
      ]
    },
    {
      "cell_type": "code",
      "execution_count": 3,
      "metadata": {
        "pycharm": {}
      },
      "outputs": [],
      "source": [
        "import numpy as np\n",
        "from GPy.kern import RBF, RatQuad\n",
        "from GPy.kern.src.kern import CombinationKernel"
      ]
    },
    {
      "cell_type": "code",
      "execution_count": 4,
      "metadata": {
        "pycharm": {}
      },
      "outputs": [],
      "source": [
        "# simple, dummy distance metric\n",
        "def distance_metric(u, v):\n",
        "    k1, k2 \u003d u[0], v[0]\n",
        "    n1 \u003d 1 if not isinstance(k1, CombinationKernel) else len(k1.parts) + 1\n",
        "    n2 \u003d 1 if not isinstance(k2, CombinationKernel) else len(k2.parts) + 1\n",
        "    return abs(n1 - n2)"
      ]
    },
    {
      "cell_type": "code",
      "execution_count": 5,
      "metadata": {
        "pycharm": {}
      },
      "outputs": [
        {
          "data": {
            "text/plain": [
              "(3, 1)"
            ]
          },
          "execution_count": 5,
          "metadata": {},
          "output_type": "execute_result"
        }
      ],
      "source": [
        "kernels \u003d np.array([[RBF(1)], [RBF(1)*RBF(1)], [RatQuad(1)]])\n",
        "kernels.shape"
      ]
    },
    {
      "cell_type": "code",
      "execution_count": 6,
      "metadata": {
        "pycharm": {}
      },
      "outputs": [
        {
          "data": {
            "text/html": [
              "\u003cstyle type\u003d\"text/css\"\u003e\n",
              ".tg  {font-family:\"Courier New\", Courier, monospace !important;padding:2px 3px;word-break:normal;border-collapse:collapse;border-spacing:0;border-color:#DCDCDC;margin:0px auto;width:100%;}\n",
              ".tg td{font-family:\"Courier New\", Courier, monospace !important;font-weight:bold;color:#444;background-color:#F7FDFA;border-style:solid;border-width:1px;overflow:hidden;word-break:normal;border-color:#DCDCDC;}\n",
              ".tg th{font-family:\"Courier New\", Courier, monospace !important;font-weight:normal;color:#fff;background-color:#26ADE4;border-style:solid;border-width:1px;overflow:hidden;word-break:normal;border-color:#DCDCDC;}\n",
              ".tg .tg-left{font-family:\"Courier New\", Courier, monospace !important;font-weight:normal;text-align:left;}\n",
              ".tg .tg-center{font-family:\"Courier New\", Courier, monospace !important;font-weight:normal;text-align:center;}\n",
              ".tg .tg-right{font-family:\"Courier New\", Courier, monospace !important;font-weight:normal;text-align:right;}\n",
              "\u003c/style\u003e\n",
              "\u003ctable class\u003d\"tg\"\u003e\u003ctr\u003e\u003cth\u003e\u003cb\u003e  kernel_kernel.\u003c/b\u003e\u003c/th\u003e\u003cth\u003e\u003cb\u003evalue\u003c/b\u003e\u003c/th\u003e\u003cth\u003e\u003cb\u003econstraints\u003c/b\u003e\u003c/th\u003e\u003cth\u003e\u003cb\u003epriors\u003c/b\u003e\u003c/th\u003e\u003c/tr\u003e\n",
              "\u003ctr\u003e\u003ctd class\u003dtg-left\u003e  variance      \u003c/td\u003e\u003ctd class\u003dtg-right\u003e  1.0\u003c/td\u003e\u003ctd class\u003dtg-center\u003e    +ve    \u003c/td\u003e\u003ctd class\u003dtg-center\u003e      \u003c/td\u003e\u003c/tr\u003e\n",
              "\u003ctr\u003e\u003ctd class\u003dtg-left\u003e  lengthscale   \u003c/td\u003e\u003ctd class\u003dtg-right\u003e  1.0\u003c/td\u003e\u003ctd class\u003dtg-center\u003e    +ve    \u003c/td\u003e\u003ctd class\u003dtg-center\u003e      \u003c/td\u003e\u003c/tr\u003e\n",
              "\u003c/table\u003e"
            ],
            "text/plain": [
              "\u003c__main__.KernelKernel at 0x2b85cf7c518\u003e"
            ]
          },
          "execution_count": 6,
          "metadata": {},
          "output_type": "execute_result"
        }
      ],
      "source": [
        "kernel_kernel \u003d KernelKernel(distance_metric)\n",
        "kernel_kernel"
      ]
    },
    {
      "cell_type": "code",
      "execution_count": 7,
      "metadata": {
        "pycharm": {}
      },
      "outputs": [
        {
          "data": {
            "text/plain": [
              "array([[1.        , 0.13533528, 1.        ],\n",
              "       [0.13533528, 1.        , 0.13533528],\n",
              "       [1.        , 0.13533528, 1.        ]])"
            ]
          },
          "execution_count": 7,
          "metadata": {},
          "output_type": "execute_result"
        }
      ],
      "source": [
        "kernel_kernel.K(kernels)"
      ]
    }
  ],
  "metadata": {
    "kernelspec": {
      "display_name": "Python 3",
      "language": "python",
      "name": "python3"
    },
    "language_info": {
      "codemirror_mode": {
        "name": "ipython",
        "version": 3
      },
      "file_extension": ".py",
      "mimetype": "text/x-python",
      "name": "python",
      "nbconvert_exporter": "python",
      "pygments_lexer": "ipython3",
      "version": "3.6.8"
    }
  },
  "nbformat": 4,
  "nbformat_minor": 2
}