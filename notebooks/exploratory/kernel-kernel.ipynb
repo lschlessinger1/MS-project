{
 "cells": [
  {
   "cell_type": "markdown",
   "metadata": {},
   "source": [
    "# Kernel Kernel Demo"
   ]
  },
  {
   "cell_type": "code",
   "execution_count": 42,
   "metadata": {},
   "outputs": [],
   "source": [
    "import matplotlib.pyplot as plt\n",
    "import numpy as np\n",
    "from GPy import likelihoods\n",
    "from GPy.core.parameterization.priors import Gaussian\n",
    "from GPy.kern import RBFDistanceBuilderKernelKernel\n",
    "\n",
    "from src.autoks.core.active_set import ActiveSet\n",
    "from src.autoks.core.gp_model import GPModel\n",
    "from src.autoks.core.grammar import BomsGrammar\n",
    "from src.autoks.distance.distance import FrobeniusDistanceBuilder"
   ]
  },
  {
   "cell_type": "markdown",
   "metadata": {},
   "source": [
    "## Create kernels and data"
   ]
  },
  {
   "cell_type": "code",
   "execution_count": 2,
   "metadata": {},
   "outputs": [],
   "source": [
    "# SE, RQ, PER, SE + PER\n",
    "grammar = BomsGrammar(base_kernel_names=['SE', 'RQ', 'PER'])\n",
    "grammar.build(1)\n",
    "se, rq, per = grammar.base_kernels\n",
    "se_plus_per = se + per\n",
    "\n",
    "data_x = np.linspace(0., 1., 500)\n",
    "data_x = data_x[:, None]\n",
    "data_y = data_x ** 2"
   ]
  },
  {
   "cell_type": "markdown",
   "metadata": {},
   "source": [
    "## Define helper functions"
   ]
  },
  {
   "cell_type": "code",
   "execution_count": 48,
   "metadata": {},
   "outputs": [],
   "source": [
    "def covariances_to_gp_models(covariances):\n",
    "    lik = likelihoods.Gaussian()\n",
    "    gp_models = [GPModel(cov, lik) for cov in covariances]\n",
    "    return gp_models\n",
    "\n",
    "def create_active_set(covariances, max_n_models):\n",
    "    active_models = ActiveSet(max_n_models)\n",
    "    active_models.update(covariances_to_gp_models(covariances))\n",
    "    return active_models\n",
    "\n",
    "def create_distance_builder(active_models, initial_model_indices, noise_prior=None, num_samples=20, \n",
    "                            max_num_hyperparameters=40):\n",
    "    if noise_prior is None:\n",
    "        noise_prior = Gaussian(np.log(0.01), 1)\n",
    "\n",
    "    builder = FrobeniusDistanceBuilder(noise_prior, num_samples, max_num_hyperparameters, active_models.max_n_models,\n",
    "                                       active_models, initial_model_indices, data_X=data_x)\n",
    "    \n",
    "    return builder\n",
    "\n",
    "def create_kernel_kernel(builder, active_models):\n",
    "    return RBFDistanceBuilderKernelKernel(builder, n_models=len(active_models))\n",
    "\n",
    "def display_frob_kernel(builder, active_models):\n",
    "    frob_kernel_matrix = builder.get_kernel(len(active_models))\n",
    "    with np.printoptions(precision=5, suppress=True):\n",
    "        print('Frobenius distance: \\n', frob_kernel_matrix)\n",
    "    \n",
    "    plt.imshow(frob_kernel_matrix, cmap='Blues')\n",
    "\n",
    "def display_kernel_kernel(kernel_kernel, initial_model_indices):\n",
    "    x_pred = np.array(initial_model_indices)\n",
    "    x_pred = x_pred[:, None]\n",
    "    kernel_kernel_matrix = kernel_kernel.K(x_pred)\n",
    "    plt.imshow(kernel_kernel_matrix, cmap='Blues')\n",
    "    with np.printoptions(precision=5, suppress=True):\n",
    "        print(\"Kernel kernel: \\n\",kernel_kernel_matrix)"
   ]
  },
  {
   "cell_type": "code",
   "execution_count": 51,
   "metadata": {},
   "outputs": [],
   "source": [
    "max_num_kernels = 1000\n",
    "covariances_init = [se, rq, per, se_plus_per]\n",
    "active_models = create_active_set(covariances_init, max_num_kernels)\n",
    "\n",
    "initial_model_indices = list(range(len(active_models)))\n",
    "builder = create_distance_builder(active_models, initial_model_indices)\n",
    "builder.compute_distance(active_models, initial_model_indices, initial_model_indices)\n",
    "\n",
    "kernel_kernel = create_kernel_kernel(builder, active_models)"
   ]
  },
  {
   "cell_type": "code",
   "execution_count": 52,
   "metadata": {},
   "outputs": [
    {
     "name": "stdout",
     "output_type": "stream",
     "text": [
      "Frobenius distance: \n",
      " [[0.      0.00259 0.0228  2.54612]\n",
      " [0.00259 0.      0.02175 2.51043]\n",
      " [0.0228  0.02175 0.      2.4649 ]\n",
      " [2.54612 2.51043 2.4649  0.     ]]\n"
     ]
    },
    {
     "data": {
      "image/png": "[encoded data removed]",
      "text/plain": [
       "<Figure size 432x288 with 1 Axes>"
      ]
     },
     "metadata": {
      "needs_background": "light"
     },
     "output_type": "display_data"
    }
   ],
   "source": [
    "display_frob_kernel(builder, active_models)"
   ]
  },
  {
   "cell_type": "code",
   "execution_count": 53,
   "metadata": {},
   "outputs": [
    {
     "name": "stdout",
     "output_type": "stream",
     "text": [
      "Kernel Kernel: \n",
      " [[1.      1.      0.99974 0.03911]\n",
      " [1.      1.      0.99976 0.0428 ]\n",
      " [0.99974 0.99976 1.      0.04794]\n",
      " [0.03911 0.0428  0.04794 1.     ]]\n"
     ]
    },
    {
     "data": {
      "image/png": "[encoded data removed]",
      "text/plain": [
       "<Figure size 432x288 with 1 Axes>"
      ]
     },
     "metadata": {
      "needs_background": "light"
     },
     "output_type": "display_data"
    }
   ],
   "source": [
    "display_kernel_kernel(kernel_kernel, initial_model_indices)"
   ]
  }
 ],
 "metadata": {
  "kernelspec": {
   "display_name": "Python 3",
   "language": "python",
   "name": "python3"
  },
  "language_info": {
   "codemirror_mode": {
    "name": "ipython",
    "version": 3
   },
   "file_extension": ".py",
   "mimetype": "text/x-python",
   "name": "python",
   "nbconvert_exporter": "python",
   "pygments_lexer": "ipython3",
   "version": "3.6.8"
  },
  "pycharm": {
   "stem_cell": {
    "cell_type": "raw",
    "source": [],
    "metadata": {
     "collapsed": false
    }
   }
  }
 },
 "nbformat": 4,
 "nbformat_minor": 2
}