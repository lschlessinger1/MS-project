{
 "cells": [
  {
   "cell_type": "markdown",
   "metadata": {},
   "source": [
    "# Binary Expression Tree Encoding"
   ]
  },
  {
   "cell_type": "code",
   "execution_count": 2,
   "metadata": {},
   "outputs": [],
   "source": [
    "import numpy as np\n",
    "import matplotlib.pyplot as plt\n",
    "from graphviz import Digraph"
   ]
  },
  {
   "cell_type": "code",
   "execution_count": 3,
   "metadata": {},
   "outputs": [],
   "source": [
    "operators = ['+', '*']\n",
    "kernel_families = ['A', 'B', 'C']\n",
    "D = 3"
   ]
  },
  {
   "cell_type": "code",
   "execution_count": 4,
   "metadata": {},
   "outputs": [
    {
     "data": {
      "text/plain": [
       "'A_2 * C_1 * B_2 * A_3 + C_1'"
      ]
     },
     "execution_count": 4,
     "metadata": {},
     "output_type": "execute_result"
    }
   ],
   "source": [
    "def generate_rand_kernel(T, dims):\n",
    "    ''' Generate random kernel with T terms\n",
    "    '''\n",
    "    \n",
    "    ops = np.random.choice(operators, size=(T - 1))\n",
    "    kern_fams = np.random.choice(kernel_families, size=T)\n",
    "    kern_dims = np.random.randint(1, dims + 1, size=T)\n",
    "    kernels = ['_'.join((fam, str(dim))) for (fam, dim) in zip(kern_fams, kern_dims)]\n",
    "    kernel = ' '.join([k + ' ' + op for k, op in zip(kernels, ops.tolist() + [''])])\n",
    "    return kernel.strip()\n",
    "\n",
    "rand_kernel = generate_rand_kernel(T=5, dims=D)\n",
    "rand_kernel"
   ]
  },
  {
   "cell_type": "markdown",
   "metadata": {},
   "source": [
    "## Define Binary Tree\n",
    "http://interactivepython.org/courselib/static/pythonds/Trees/ParseTree.html\n",
    "\n",
    "http://openbookproject.net/thinkcs/python/english3e/trees.html"
   ]
  },
  {
   "cell_type": "code",
   "execution_count": 10,
   "metadata": {},
   "outputs": [],
   "source": [
    "class TreeNode():\n",
    "    def __init__(self, value, parent=None):\n",
    "        self.value = value\n",
    "        self.parent = parent\n",
    "        self.children = []\n",
    "    \n",
    "    def children():\n",
    "        return self.children\n",
    "    \n",
    "    def get_parent():\n",
    "        return self.parent()\n",
    "    \n",
    "    def get_child_count():\n",
    "        return len(self.children)\n",
    "    \n",
    "    def __str__(self):\n",
    "        return str(self.value)\n",
    "\n",
    "class BinaryTreeNode(TreeNode):\n",
    "    \n",
    "    def __init__(self, value, parent=None):\n",
    "        super().__init__(value, parent)\n",
    "        \n",
    "        self.left = None\n",
    "        self.right = None\n",
    "        \n",
    "    def add_left(self, val):\n",
    "        self.left = BinaryTreeNode(val, self)\n",
    "        return self.left\n",
    "    \n",
    "    def add_right(self, val):\n",
    "        self.right = BinaryTreeNode(val, self)\n",
    "        return self.right\n",
    "    \n",
    "    def __str__(self):\n",
    "        return str(self.value)\n",
    "\n",
    "class BinaryTree():\n",
    "    \n",
    "    def __init__(self):\n",
    "        self.root = None\n",
    "    \n",
    "        \n",
    "# TODO: \n",
    "# define a function to tokenize/parse infix expressions \n",
    "# think about where to put graphviz integration\n",
    "# make Binary Expression Tree class\n",
    "# make general Node class\n",
    "# add inorder/postorder\n",
    "# start thinking about mutation and crossover"
   ]
  },
  {
   "cell_type": "markdown",
   "metadata": {},
   "source": [
    "## Construct simple example\n",
    "1. Assume Full expression of infix expression of kernel objects\n",
    "2. Parse into postfix expressions\n",
    " 1. Tokenize\n",
    "3. Create binary expression tree from postfix expression"
   ]
  },
  {
   "cell_type": "code",
   "execution_count": 11,
   "metadata": {},
   "outputs": [
    {
     "data": {
      "text/plain": [
       "'A1 + B3 + C2 * ( A1 * B2 )'"
      ]
     },
     "execution_count": 11,
     "metadata": {},
     "output_type": "execute_result"
    }
   ],
   "source": [
    "# input infix string \n",
    "infix_expression = 'A1 + B3 + C2 * ( A1 * B2 )'\n",
    "infix_expression"
   ]
  },
  {
   "cell_type": "markdown",
   "metadata": {},
   "source": [
    "##### infix to postfix"
   ]
  },
  {
   "cell_type": "code",
   "execution_count": 12,
   "metadata": {},
   "outputs": [],
   "source": [
    "def infix_to_postfix(infix_expression):\n",
    "    # tokenize\n",
    "    infix_tokens = infix_expression.split()\n",
    "    \n",
    "    pemdas = {}\n",
    "    pemdas[\"*\"] = 3\n",
    "    pemdas[\"+\"] = 1\n",
    "    pemdas[\"(\"] = 0\n",
    "\n",
    "    operator_stack = []\n",
    "    postfix_list = []\n",
    "    for token in infix_tokens:\n",
    "        if token in operators:\n",
    "            while len(operator_stack) is not 0 and pemdas[operator_stack[-1]] >= pemdas[token]:\n",
    "                postfix_list.append(operator_stack.pop())\n",
    "            operator_stack.append(token)\n",
    "        elif token == '(':\n",
    "            operator_stack.append(token)\n",
    "        elif token == ')':\n",
    "            top_tkn = operator_stack.pop()\n",
    "            while top_tkn != '(':\n",
    "                postfix_list.append(top_tkn)\n",
    "                top_tkn = operator_stack.pop()\n",
    "        else:\n",
    "            # token is an operand\n",
    "            postfix_list.append(token)\n",
    "\n",
    "    while len(operator_stack) > 0:\n",
    "        postfix_list.append(operator_stack.pop())\n",
    "\n",
    "    return \" \".join(postfix_list)"
   ]
  },
  {
   "cell_type": "code",
   "execution_count": 13,
   "metadata": {},
   "outputs": [
    {
     "data": {
      "text/plain": [
       "'A1 B3 + C2 A1 B2 * * +'"
      ]
     },
     "execution_count": 13,
     "metadata": {},
     "output_type": "execute_result"
    }
   ],
   "source": [
    "infix_to_postfix(infix_expression)"
   ]
  },
  {
   "cell_type": "code",
   "execution_count": 14,
   "metadata": {},
   "outputs": [
    {
     "data": {
      "text/plain": [
       "'A B + C D + *'"
      ]
     },
     "execution_count": 14,
     "metadata": {},
     "output_type": "execute_result"
    }
   ],
   "source": [
    "infix_to_postfix(\"( A + B ) * ( C + D )\")"
   ]
  },
  {
   "cell_type": "code",
   "execution_count": 15,
   "metadata": {},
   "outputs": [
    {
     "data": {
      "text/plain": [
       "'A B + C *'"
      ]
     },
     "execution_count": 15,
     "metadata": {},
     "output_type": "execute_result"
    }
   ],
   "source": [
    "infix_to_postfix(\"( A + B ) * C\")"
   ]
  },
  {
   "cell_type": "code",
   "execution_count": 16,
   "metadata": {},
   "outputs": [
    {
     "data": {
      "text/plain": [
       "'A1 B2 C3 * +'"
      ]
     },
     "execution_count": 16,
     "metadata": {},
     "output_type": "execute_result"
    }
   ],
   "source": [
    "infix_to_postfix(\"A1 + B2 * C3\")"
   ]
  },
  {
   "cell_type": "code",
   "execution_count": 17,
   "metadata": {},
   "outputs": [],
   "source": [
    "def postfix_to_binexp_tree(postfix):\n",
    "    tree = BinaryTree()\n",
    "    \n",
    "    postfix_tokens = postfix.split()\n",
    "    root = BinaryTreeNode(postfix_tokens.pop())\n",
    "    tree.root = root\n",
    "\n",
    "    curr = root\n",
    "    for token in postfix_tokens[::-1]:\n",
    "        # while curr can't have more children\n",
    "        while curr.value not in operators or (curr.right is not None and curr.left is not None):\n",
    "            curr = curr.parent\n",
    "\n",
    "        if curr.right is None:\n",
    "            node = curr.add_right(token)\n",
    "        elif curr.left is None:\n",
    "            node = curr.add_left(token)\n",
    "        curr = node\n",
    "\n",
    "    return tree"
   ]
  },
  {
   "cell_type": "code",
   "execution_count": 18,
   "metadata": {},
   "outputs": [
    {
     "data": {
      "text/plain": [
       "<__main__.BinaryTree at 0x22e52d7f0b8>"
      ]
     },
     "execution_count": 18,
     "metadata": {},
     "output_type": "execute_result"
    }
   ],
   "source": [
    "postfix = infix_to_postfix(\"2 * 6 + 3 * 8\")\n",
    "tree = postfix_to_binexp_tree(postfix)\n",
    "tree"
   ]
  },
  {
   "cell_type": "code",
   "execution_count": 19,
   "metadata": {},
   "outputs": [
    {
     "data": {
      "text/plain": [
       "'((A+B)*(C+D))'"
      ]
     },
     "execution_count": 19,
     "metadata": {},
     "output_type": "execute_result"
    }
   ],
   "source": [
    "def infix(root, expression=None):\n",
    "    if expression is None:\n",
    "        expression = ''\n",
    "    \n",
    "    if root is not None:\n",
    "        if root.value in operators:\n",
    "            expression += '('\n",
    "            \n",
    "        expression += infix(root.left)\n",
    "        expression += root.value\n",
    "        expression += infix(root.right)\n",
    "        \n",
    "        if root.value in operators:\n",
    "            expression += ')'\n",
    "    \n",
    "    return expression\n",
    "\n",
    "postfix = infix_to_postfix(\"( A + B ) * ( C + D )\")\n",
    "tree = postfix_to_binexp_tree(postfix)\n",
    "infix_expr = infix(tree.root)\n",
    "infix_expr"
   ]
  },
  {
   "cell_type": "markdown",
   "metadata": {},
   "source": [
    "#### Draw Graph"
   ]
  },
  {
   "cell_type": "code",
   "execution_count": 20,
   "metadata": {},
   "outputs": [],
   "source": [
    "def create_graph(root, graph):\n",
    "    if root is not None:\n",
    "        root_id = str(id(root))\n",
    "        graph.node(root_id, label=root.value)\n",
    "        \n",
    "        if root.left is not None:\n",
    "            left = root.left\n",
    "            left_id = str(id(left))\n",
    "            graph.node(left_id, label=left.value)\n",
    "            graph.edge(root_id, left_id)\n",
    "            create_graph(root.left, graph)\n",
    "        if root.right is not None:\n",
    "            right = root.right\n",
    "            right_id = str(id(right))\n",
    "            graph.node(right_id, label=right.value)\n",
    "            graph.edge(root_id, right_id)\n",
    "            create_graph(root.right, graph)\n",
    "            \n",
    "    return graph"
   ]
  },
  {
   "cell_type": "code",
   "execution_count": 21,
   "metadata": {},
   "outputs": [
    {
     "data": {
      "image/svg+xml": [
       "<?xml version=\"1.0\" encoding=\"UTF-8\" standalone=\"no\"?>\r\n",
       "<!DOCTYPE svg PUBLIC \"-//W3C//DTD SVG 1.1//EN\"\r\n",
       " \"http://www.w3.org/Graphics/SVG/1.1/DTD/svg11.dtd\">\r\n",
       "<!-- Generated by graphviz version 2.38.0 (20140413.2041)\r\n",
       " -->\r\n",
       "<!-- Title: %3 Pages: 1 -->\r\n",
       "<svg width=\"176pt\" height=\"188pt\"\r\n",
       " viewBox=\"0.00 0.00 176.19 188.00\" xmlns=\"http://www.w3.org/2000/svg\" xmlns:xlink=\"http://www.w3.org/1999/xlink\">\r\n",
       "<g id=\"graph0\" class=\"graph\" transform=\"scale(1 1) rotate(0) translate(4 184)\">\r\n",
       "<title>%3</title>\r\n",
       "<polygon fill=\"white\" stroke=\"none\" points=\"-4,4 -4,-184 172.195,-184 172.195,4 -4,4\"/>\r\n",
       "<!-- 2397981673624 -->\r\n",
       "<g id=\"node1\" class=\"node\"><title>2397981673624</title>\r\n",
       "<ellipse fill=\"none\" stroke=\"black\" cx=\"65.5975\" cy=\"-162\" rx=\"27\" ry=\"18\"/>\r\n",
       "<text text-anchor=\"middle\" x=\"65.5975\" y=\"-158.3\" font-family=\"Times New Roman,serif\" font-size=\"14.00\">+</text>\r\n",
       "</g>\r\n",
       "<!-- 2397981673064 -->\r\n",
       "<g id=\"node2\" class=\"node\"><title>2397981673064</title>\r\n",
       "<ellipse fill=\"none\" stroke=\"black\" cx=\"28.5975\" cy=\"-90\" rx=\"28.6953\" ry=\"18\"/>\r\n",
       "<text text-anchor=\"middle\" x=\"28.5975\" y=\"-86.3\" font-family=\"Times New Roman,serif\" font-size=\"14.00\">RQ1</text>\r\n",
       "</g>\r\n",
       "<!-- 2397981673624&#45;&gt;2397981673064 -->\r\n",
       "<g id=\"edge1\" class=\"edge\"><title>2397981673624&#45;&gt;2397981673064</title>\r\n",
       "<path fill=\"none\" stroke=\"black\" d=\"M57.0159,-144.765C52.5969,-136.404 47.1059,-126.016 42.132,-116.606\"/>\r\n",
       "<polygon fill=\"black\" stroke=\"black\" points=\"45.1569,-114.839 37.3894,-107.633 38.9682,-118.11 45.1569,-114.839\"/>\r\n",
       "</g>\r\n",
       "<!-- 2397981671888 -->\r\n",
       "<g id=\"node3\" class=\"node\"><title>2397981671888</title>\r\n",
       "<ellipse fill=\"none\" stroke=\"black\" cx=\"102.597\" cy=\"-90\" rx=\"27\" ry=\"18\"/>\r\n",
       "<text text-anchor=\"middle\" x=\"102.597\" y=\"-86.3\" font-family=\"Times New Roman,serif\" font-size=\"14.00\">*</text>\r\n",
       "</g>\r\n",
       "<!-- 2397981673624&#45;&gt;2397981671888 -->\r\n",
       "<g id=\"edge2\" class=\"edge\"><title>2397981673624&#45;&gt;2397981671888</title>\r\n",
       "<path fill=\"none\" stroke=\"black\" d=\"M74.179,-144.765C78.6621,-136.283 84.2484,-125.714 89.2788,-116.197\"/>\r\n",
       "<polygon fill=\"black\" stroke=\"black\" points=\"92.4837,-117.624 94.0625,-107.147 86.295,-114.353 92.4837,-117.624\"/>\r\n",
       "</g>\r\n",
       "<!-- 2397981674184 -->\r\n",
       "<g id=\"node4\" class=\"node\"><title>2397981674184</title>\r\n",
       "<ellipse fill=\"none\" stroke=\"black\" cx=\"65.5975\" cy=\"-18\" rx=\"27\" ry=\"18\"/>\r\n",
       "<text text-anchor=\"middle\" x=\"65.5975\" y=\"-14.3\" font-family=\"Times New Roman,serif\" font-size=\"14.00\">SE2</text>\r\n",
       "</g>\r\n",
       "<!-- 2397981671888&#45;&gt;2397981674184 -->\r\n",
       "<g id=\"edge3\" class=\"edge\"><title>2397981671888&#45;&gt;2397981674184</title>\r\n",
       "<path fill=\"none\" stroke=\"black\" d=\"M94.0159,-72.7646C89.5328,-64.2831 83.9465,-53.7144 78.9161,-44.1974\"/>\r\n",
       "<polygon fill=\"black\" stroke=\"black\" points=\"81.8999,-42.3527 74.1325,-35.1473 75.7113,-45.6239 81.8999,-42.3527\"/>\r\n",
       "</g>\r\n",
       "<!-- 2397981672280 -->\r\n",
       "<g id=\"node5\" class=\"node\"><title>2397981672280</title>\r\n",
       "<ellipse fill=\"none\" stroke=\"black\" cx=\"139.597\" cy=\"-18\" rx=\"28.6953\" ry=\"18\"/>\r\n",
       "<text text-anchor=\"middle\" x=\"139.597\" y=\"-14.3\" font-family=\"Times New Roman,serif\" font-size=\"14.00\">RQ2</text>\r\n",
       "</g>\r\n",
       "<!-- 2397981671888&#45;&gt;2397981672280 -->\r\n",
       "<g id=\"edge4\" class=\"edge\"><title>2397981671888&#45;&gt;2397981672280</title>\r\n",
       "<path fill=\"none\" stroke=\"black\" d=\"M111.179,-72.7646C115.598,-64.4043 121.089,-54.0159 126.063,-44.6059\"/>\r\n",
       "<polygon fill=\"black\" stroke=\"black\" points=\"129.227,-46.11 130.806,-35.6334 123.038,-42.8388 129.227,-46.11\"/>\r\n",
       "</g>\r\n",
       "</g>\r\n",
       "</svg>\r\n"
      ],
      "text/plain": [
       "<graphviz.dot.Digraph at 0x22e52d88b38>"
      ]
     },
     "execution_count": 21,
     "metadata": {},
     "output_type": "execute_result"
    }
   ],
   "source": [
    "infix_expression = \"RQ1 + SE2 * RQ2\"\n",
    "postfix = infix_to_postfix(infix_expression)\n",
    "tree = postfix_to_binexp_tree(postfix)\n",
    "graph = create_graph(tree.root, Digraph(comment='Binary Expression Tree'))\n",
    "graph"
   ]
  },
  {
   "cell_type": "code",
   "execution_count": 22,
   "metadata": {},
   "outputs": [
    {
     "data": {
      "image/svg+xml": [
       "<?xml version=\"1.0\" encoding=\"UTF-8\" standalone=\"no\"?>\r\n",
       "<!DOCTYPE svg PUBLIC \"-//W3C//DTD SVG 1.1//EN\"\r\n",
       " \"http://www.w3.org/Graphics/SVG/1.1/DTD/svg11.dtd\">\r\n",
       "<!-- Generated by graphviz version 2.38.0 (20140413.2041)\r\n",
       " -->\r\n",
       "<!-- Title: %3 Pages: 1 -->\r\n",
       "<svg width=\"324pt\" height=\"332pt\"\r\n",
       " viewBox=\"0.00 0.00 324.19 332.00\" xmlns=\"http://www.w3.org/2000/svg\" xmlns:xlink=\"http://www.w3.org/1999/xlink\">\r\n",
       "<g id=\"graph0\" class=\"graph\" transform=\"scale(1 1) rotate(0) translate(4 328)\">\r\n",
       "<title>%3</title>\r\n",
       "<polygon fill=\"white\" stroke=\"none\" points=\"-4,4 -4,-328 320.195,-328 320.195,4 -4,4\"/>\r\n",
       "<!-- 2397981673792 -->\r\n",
       "<g id=\"node1\" class=\"node\"><title>2397981673792</title>\r\n",
       "<ellipse fill=\"none\" stroke=\"black\" cx=\"176.597\" cy=\"-306\" rx=\"27\" ry=\"18\"/>\r\n",
       "<text text-anchor=\"middle\" x=\"176.597\" y=\"-302.3\" font-family=\"Times New Roman,serif\" font-size=\"14.00\">+</text>\r\n",
       "</g>\r\n",
       "<!-- 2397981655728 -->\r\n",
       "<g id=\"node2\" class=\"node\"><title>2397981655728</title>\r\n",
       "<ellipse fill=\"none\" stroke=\"black\" cx=\"139.597\" cy=\"-234\" rx=\"27\" ry=\"18\"/>\r\n",
       "<text text-anchor=\"middle\" x=\"139.597\" y=\"-230.3\" font-family=\"Times New Roman,serif\" font-size=\"14.00\">+</text>\r\n",
       "</g>\r\n",
       "<!-- 2397981673792&#45;&gt;2397981655728 -->\r\n",
       "<g id=\"edge1\" class=\"edge\"><title>2397981673792&#45;&gt;2397981655728</title>\r\n",
       "<path fill=\"none\" stroke=\"black\" d=\"M168.016,-288.765C163.533,-280.283 157.947,-269.714 152.916,-260.197\"/>\r\n",
       "<polygon fill=\"black\" stroke=\"black\" points=\"155.9,-258.353 148.132,-251.147 149.711,-261.624 155.9,-258.353\"/>\r\n",
       "</g>\r\n",
       "<!-- 2397981673400 -->\r\n",
       "<g id=\"node9\" class=\"node\"><title>2397981673400</title>\r\n",
       "<ellipse fill=\"none\" stroke=\"black\" cx=\"213.597\" cy=\"-234\" rx=\"27\" ry=\"18\"/>\r\n",
       "<text text-anchor=\"middle\" x=\"213.597\" y=\"-230.3\" font-family=\"Times New Roman,serif\" font-size=\"14.00\">*</text>\r\n",
       "</g>\r\n",
       "<!-- 2397981673792&#45;&gt;2397981673400 -->\r\n",
       "<g id=\"edge8\" class=\"edge\"><title>2397981673792&#45;&gt;2397981673400</title>\r\n",
       "<path fill=\"none\" stroke=\"black\" d=\"M185.179,-288.765C189.662,-280.283 195.248,-269.714 200.279,-260.197\"/>\r\n",
       "<polygon fill=\"black\" stroke=\"black\" points=\"203.484,-261.624 205.062,-251.147 197.295,-258.353 203.484,-261.624\"/>\r\n",
       "</g>\r\n",
       "<!-- 2397981658192 -->\r\n",
       "<g id=\"node3\" class=\"node\"><title>2397981658192</title>\r\n",
       "<ellipse fill=\"none\" stroke=\"black\" cx=\"65.5975\" cy=\"-162\" rx=\"27\" ry=\"18\"/>\r\n",
       "<text text-anchor=\"middle\" x=\"65.5975\" y=\"-158.3\" font-family=\"Times New Roman,serif\" font-size=\"14.00\">+</text>\r\n",
       "</g>\r\n",
       "<!-- 2397981655728&#45;&gt;2397981658192 -->\r\n",
       "<g id=\"edge2\" class=\"edge\"><title>2397981655728&#45;&gt;2397981658192</title>\r\n",
       "<path fill=\"none\" stroke=\"black\" d=\"M124.622,-218.834C114.091,-208.872 99.8158,-195.369 87.9424,-184.137\"/>\r\n",
       "<polygon fill=\"black\" stroke=\"black\" points=\"90.2201,-181.474 80.5502,-177.144 85.4097,-186.559 90.2201,-181.474\"/>\r\n",
       "</g>\r\n",
       "<!-- 2397981656232 -->\r\n",
       "<g id=\"node8\" class=\"node\"><title>2397981656232</title>\r\n",
       "<ellipse fill=\"none\" stroke=\"black\" cx=\"139.597\" cy=\"-162\" rx=\"28.6953\" ry=\"18\"/>\r\n",
       "<text text-anchor=\"middle\" x=\"139.597\" y=\"-158.3\" font-family=\"Times New Roman,serif\" font-size=\"14.00\">RQ1</text>\r\n",
       "</g>\r\n",
       "<!-- 2397981655728&#45;&gt;2397981656232 -->\r\n",
       "<g id=\"edge7\" class=\"edge\"><title>2397981655728&#45;&gt;2397981656232</title>\r\n",
       "<path fill=\"none\" stroke=\"black\" d=\"M139.597,-215.697C139.597,-207.983 139.597,-198.712 139.597,-190.112\"/>\r\n",
       "<polygon fill=\"black\" stroke=\"black\" points=\"143.098,-190.104 139.597,-180.104 136.098,-190.104 143.098,-190.104\"/>\r\n",
       "</g>\r\n",
       "<!-- 2397981655112 -->\r\n",
       "<g id=\"node4\" class=\"node\"><title>2397981655112</title>\r\n",
       "<ellipse fill=\"none\" stroke=\"black\" cx=\"28.5975\" cy=\"-90\" rx=\"28.6953\" ry=\"18\"/>\r\n",
       "<text text-anchor=\"middle\" x=\"28.5975\" y=\"-86.3\" font-family=\"Times New Roman,serif\" font-size=\"14.00\">RQ1</text>\r\n",
       "</g>\r\n",
       "<!-- 2397981658192&#45;&gt;2397981655112 -->\r\n",
       "<g id=\"edge3\" class=\"edge\"><title>2397981658192&#45;&gt;2397981655112</title>\r\n",
       "<path fill=\"none\" stroke=\"black\" d=\"M57.0159,-144.765C52.5969,-136.404 47.1059,-126.016 42.132,-116.606\"/>\r\n",
       "<polygon fill=\"black\" stroke=\"black\" points=\"45.1569,-114.839 37.3894,-107.633 38.9682,-118.11 45.1569,-114.839\"/>\r\n",
       "</g>\r\n",
       "<!-- 2397981655168 -->\r\n",
       "<g id=\"node5\" class=\"node\"><title>2397981655168</title>\r\n",
       "<ellipse fill=\"none\" stroke=\"black\" cx=\"102.597\" cy=\"-90\" rx=\"27\" ry=\"18\"/>\r\n",
       "<text text-anchor=\"middle\" x=\"102.597\" y=\"-86.3\" font-family=\"Times New Roman,serif\" font-size=\"14.00\">*</text>\r\n",
       "</g>\r\n",
       "<!-- 2397981658192&#45;&gt;2397981655168 -->\r\n",
       "<g id=\"edge4\" class=\"edge\"><title>2397981658192&#45;&gt;2397981655168</title>\r\n",
       "<path fill=\"none\" stroke=\"black\" d=\"M74.179,-144.765C78.6621,-136.283 84.2484,-125.714 89.2788,-116.197\"/>\r\n",
       "<polygon fill=\"black\" stroke=\"black\" points=\"92.4837,-117.624 94.0625,-107.147 86.295,-114.353 92.4837,-117.624\"/>\r\n",
       "</g>\r\n",
       "<!-- 2397981656568 -->\r\n",
       "<g id=\"node6\" class=\"node\"><title>2397981656568</title>\r\n",
       "<ellipse fill=\"none\" stroke=\"black\" cx=\"65.5975\" cy=\"-18\" rx=\"27\" ry=\"18\"/>\r\n",
       "<text text-anchor=\"middle\" x=\"65.5975\" y=\"-14.3\" font-family=\"Times New Roman,serif\" font-size=\"14.00\">SE2</text>\r\n",
       "</g>\r\n",
       "<!-- 2397981655168&#45;&gt;2397981656568 -->\r\n",
       "<g id=\"edge5\" class=\"edge\"><title>2397981655168&#45;&gt;2397981656568</title>\r\n",
       "<path fill=\"none\" stroke=\"black\" d=\"M94.0159,-72.7646C89.5328,-64.2831 83.9465,-53.7144 78.9161,-44.1974\"/>\r\n",
       "<polygon fill=\"black\" stroke=\"black\" points=\"81.8999,-42.3527 74.1325,-35.1473 75.7113,-45.6239 81.8999,-42.3527\"/>\r\n",
       "</g>\r\n",
       "<!-- 2397981656008 -->\r\n",
       "<g id=\"node7\" class=\"node\"><title>2397981656008</title>\r\n",
       "<ellipse fill=\"none\" stroke=\"black\" cx=\"139.597\" cy=\"-18\" rx=\"28.6953\" ry=\"18\"/>\r\n",
       "<text text-anchor=\"middle\" x=\"139.597\" y=\"-14.3\" font-family=\"Times New Roman,serif\" font-size=\"14.00\">RQ2</text>\r\n",
       "</g>\r\n",
       "<!-- 2397981655168&#45;&gt;2397981656008 -->\r\n",
       "<g id=\"edge6\" class=\"edge\"><title>2397981655168&#45;&gt;2397981656008</title>\r\n",
       "<path fill=\"none\" stroke=\"black\" d=\"M111.179,-72.7646C115.598,-64.4043 121.089,-54.0159 126.063,-44.6059\"/>\r\n",
       "<polygon fill=\"black\" stroke=\"black\" points=\"129.227,-46.11 130.806,-35.6334 123.038,-42.8388 129.227,-46.11\"/>\r\n",
       "</g>\r\n",
       "<!-- 2397947555064 -->\r\n",
       "<g id=\"node10\" class=\"node\"><title>2397947555064</title>\r\n",
       "<ellipse fill=\"none\" stroke=\"black\" cx=\"213.597\" cy=\"-162\" rx=\"27\" ry=\"18\"/>\r\n",
       "<text text-anchor=\"middle\" x=\"213.597\" y=\"-158.3\" font-family=\"Times New Roman,serif\" font-size=\"14.00\">SE2</text>\r\n",
       "</g>\r\n",
       "<!-- 2397981673400&#45;&gt;2397947555064 -->\r\n",
       "<g id=\"edge9\" class=\"edge\"><title>2397981673400&#45;&gt;2397947555064</title>\r\n",
       "<path fill=\"none\" stroke=\"black\" d=\"M213.597,-215.697C213.597,-207.983 213.597,-198.712 213.597,-190.112\"/>\r\n",
       "<polygon fill=\"black\" stroke=\"black\" points=\"217.098,-190.104 213.597,-180.104 210.098,-190.104 217.098,-190.104\"/>\r\n",
       "</g>\r\n",
       "<!-- 2397981431960 -->\r\n",
       "<g id=\"node11\" class=\"node\"><title>2397981431960</title>\r\n",
       "<ellipse fill=\"none\" stroke=\"black\" cx=\"287.597\" cy=\"-162\" rx=\"28.6953\" ry=\"18\"/>\r\n",
       "<text text-anchor=\"middle\" x=\"287.597\" y=\"-158.3\" font-family=\"Times New Roman,serif\" font-size=\"14.00\">RQ2</text>\r\n",
       "</g>\r\n",
       "<!-- 2397981673400&#45;&gt;2397981431960 -->\r\n",
       "<g id=\"edge10\" class=\"edge\"><title>2397981673400&#45;&gt;2397981431960</title>\r\n",
       "<path fill=\"none\" stroke=\"black\" d=\"M228.572,-218.834C239.035,-208.938 253.191,-195.546 265.018,-184.359\"/>\r\n",
       "<polygon fill=\"black\" stroke=\"black\" points=\"267.531,-186.799 272.391,-177.385 262.721,-181.714 267.531,-186.799\"/>\r\n",
       "</g>\r\n",
       "</g>\r\n",
       "</svg>\r\n"
      ],
      "text/plain": [
       "<graphviz.dot.Digraph at 0x22e52d88e48>"
      ]
     },
     "execution_count": 22,
     "metadata": {},
     "output_type": "execute_result"
    }
   ],
   "source": [
    "infix_expression = \"RQ1 + SE2 * RQ2 + RQ1 + SE2 * RQ2\"\n",
    "postfix = infix_to_postfix(infix_expression)\n",
    "tree = postfix_to_binexp_tree(postfix)\n",
    "graph = create_graph(tree.root, Digraph(comment='Binary Expression Tree'))\n",
    "graph"
   ]
  },
  {
   "cell_type": "code",
   "execution_count": 23,
   "metadata": {},
   "outputs": [
    {
     "data": {
      "text/plain": [
       "'RQ1 SE2 RQ2 * + RQ1 + SE2 RQ2 * +'"
      ]
     },
     "execution_count": 23,
     "metadata": {},
     "output_type": "execute_result"
    }
   ],
   "source": [
    "infix_expression = \"RQ1 + SE2 * RQ2 + RQ1 + SE2 * RQ2\"\n",
    "postfix = infix_to_postfix(infix_expression)\n",
    "postfix"
   ]
  },
  {
   "cell_type": "code",
   "execution_count": 24,
   "metadata": {},
   "outputs": [
    {
     "data": {
      "image/svg+xml": [
       "<?xml version=\"1.0\" encoding=\"UTF-8\" standalone=\"no\"?>\r\n",
       "<!DOCTYPE svg PUBLIC \"-//W3C//DTD SVG 1.1//EN\"\r\n",
       " \"http://www.w3.org/Graphics/SVG/1.1/DTD/svg11.dtd\">\r\n",
       "<!-- Generated by graphviz version 2.38.0 (20140413.2041)\r\n",
       " -->\r\n",
       "<!-- Title: %3 Pages: 1 -->\r\n",
       "<svg width=\"324pt\" height=\"332pt\"\r\n",
       " viewBox=\"0.00 0.00 324.19 332.00\" xmlns=\"http://www.w3.org/2000/svg\" xmlns:xlink=\"http://www.w3.org/1999/xlink\">\r\n",
       "<g id=\"graph0\" class=\"graph\" transform=\"scale(1 1) rotate(0) translate(4 328)\">\r\n",
       "<title>%3</title>\r\n",
       "<polygon fill=\"white\" stroke=\"none\" points=\"-4,4 -4,-328 320.195,-328 320.195,4 -4,4\"/>\r\n",
       "<!-- 2397981655336 -->\r\n",
       "<g id=\"node1\" class=\"node\"><title>2397981655336</title>\r\n",
       "<ellipse fill=\"none\" stroke=\"black\" cx=\"176.597\" cy=\"-306\" rx=\"27\" ry=\"18\"/>\r\n",
       "<text text-anchor=\"middle\" x=\"176.597\" y=\"-302.3\" font-family=\"Times New Roman,serif\" font-size=\"14.00\">+</text>\r\n",
       "</g>\r\n",
       "<!-- 2397981656736 -->\r\n",
       "<g id=\"node2\" class=\"node\"><title>2397981656736</title>\r\n",
       "<ellipse fill=\"none\" stroke=\"black\" cx=\"139.597\" cy=\"-234\" rx=\"27\" ry=\"18\"/>\r\n",
       "<text text-anchor=\"middle\" x=\"139.597\" y=\"-230.3\" font-family=\"Times New Roman,serif\" font-size=\"14.00\">+</text>\r\n",
       "</g>\r\n",
       "<!-- 2397981655336&#45;&gt;2397981656736 -->\r\n",
       "<g id=\"edge1\" class=\"edge\"><title>2397981655336&#45;&gt;2397981656736</title>\r\n",
       "<path fill=\"none\" stroke=\"black\" d=\"M168.016,-288.765C163.533,-280.283 157.947,-269.714 152.916,-260.197\"/>\r\n",
       "<polygon fill=\"black\" stroke=\"black\" points=\"155.9,-258.353 148.132,-251.147 149.711,-261.624 155.9,-258.353\"/>\r\n",
       "</g>\r\n",
       "<!-- 2397981657352 -->\r\n",
       "<g id=\"node9\" class=\"node\"><title>2397981657352</title>\r\n",
       "<ellipse fill=\"none\" stroke=\"black\" cx=\"213.597\" cy=\"-234\" rx=\"27\" ry=\"18\"/>\r\n",
       "<text text-anchor=\"middle\" x=\"213.597\" y=\"-230.3\" font-family=\"Times New Roman,serif\" font-size=\"14.00\">*</text>\r\n",
       "</g>\r\n",
       "<!-- 2397981655336&#45;&gt;2397981657352 -->\r\n",
       "<g id=\"edge8\" class=\"edge\"><title>2397981655336&#45;&gt;2397981657352</title>\r\n",
       "<path fill=\"none\" stroke=\"black\" d=\"M185.179,-288.765C189.662,-280.283 195.248,-269.714 200.279,-260.197\"/>\r\n",
       "<polygon fill=\"black\" stroke=\"black\" points=\"203.484,-261.624 205.062,-251.147 197.295,-258.353 203.484,-261.624\"/>\r\n",
       "</g>\r\n",
       "<!-- 2397981657576 -->\r\n",
       "<g id=\"node3\" class=\"node\"><title>2397981657576</title>\r\n",
       "<ellipse fill=\"none\" stroke=\"black\" cx=\"65.5975\" cy=\"-162\" rx=\"27\" ry=\"18\"/>\r\n",
       "<text text-anchor=\"middle\" x=\"65.5975\" y=\"-158.3\" font-family=\"Times New Roman,serif\" font-size=\"14.00\">+</text>\r\n",
       "</g>\r\n",
       "<!-- 2397981656736&#45;&gt;2397981657576 -->\r\n",
       "<g id=\"edge2\" class=\"edge\"><title>2397981656736&#45;&gt;2397981657576</title>\r\n",
       "<path fill=\"none\" stroke=\"black\" d=\"M124.622,-218.834C114.091,-208.872 99.8158,-195.369 87.9424,-184.137\"/>\r\n",
       "<polygon fill=\"black\" stroke=\"black\" points=\"90.2201,-181.474 80.5502,-177.144 85.4097,-186.559 90.2201,-181.474\"/>\r\n",
       "</g>\r\n",
       "<!-- 2397981656512 -->\r\n",
       "<g id=\"node8\" class=\"node\"><title>2397981656512</title>\r\n",
       "<ellipse fill=\"none\" stroke=\"black\" cx=\"139.597\" cy=\"-162\" rx=\"28.6953\" ry=\"18\"/>\r\n",
       "<text text-anchor=\"middle\" x=\"139.597\" y=\"-158.3\" font-family=\"Times New Roman,serif\" font-size=\"14.00\">RQ1</text>\r\n",
       "</g>\r\n",
       "<!-- 2397981656736&#45;&gt;2397981656512 -->\r\n",
       "<g id=\"edge7\" class=\"edge\"><title>2397981656736&#45;&gt;2397981656512</title>\r\n",
       "<path fill=\"none\" stroke=\"black\" d=\"M139.597,-215.697C139.597,-207.983 139.597,-198.712 139.597,-190.112\"/>\r\n",
       "<polygon fill=\"black\" stroke=\"black\" points=\"143.098,-190.104 139.597,-180.104 136.098,-190.104 143.098,-190.104\"/>\r\n",
       "</g>\r\n",
       "<!-- 2397981657408 -->\r\n",
       "<g id=\"node4\" class=\"node\"><title>2397981657408</title>\r\n",
       "<ellipse fill=\"none\" stroke=\"black\" cx=\"28.5975\" cy=\"-90\" rx=\"28.6953\" ry=\"18\"/>\r\n",
       "<text text-anchor=\"middle\" x=\"28.5975\" y=\"-86.3\" font-family=\"Times New Roman,serif\" font-size=\"14.00\">RQ1</text>\r\n",
       "</g>\r\n",
       "<!-- 2397981657576&#45;&gt;2397981657408 -->\r\n",
       "<g id=\"edge3\" class=\"edge\"><title>2397981657576&#45;&gt;2397981657408</title>\r\n",
       "<path fill=\"none\" stroke=\"black\" d=\"M57.0159,-144.765C52.5969,-136.404 47.1059,-126.016 42.132,-116.606\"/>\r\n",
       "<polygon fill=\"black\" stroke=\"black\" points=\"45.1569,-114.839 37.3894,-107.633 38.9682,-118.11 45.1569,-114.839\"/>\r\n",
       "</g>\r\n",
       "<!-- 2397981657632 -->\r\n",
       "<g id=\"node5\" class=\"node\"><title>2397981657632</title>\r\n",
       "<ellipse fill=\"none\" stroke=\"black\" cx=\"102.597\" cy=\"-90\" rx=\"27\" ry=\"18\"/>\r\n",
       "<text text-anchor=\"middle\" x=\"102.597\" y=\"-86.3\" font-family=\"Times New Roman,serif\" font-size=\"14.00\">*</text>\r\n",
       "</g>\r\n",
       "<!-- 2397981657576&#45;&gt;2397981657632 -->\r\n",
       "<g id=\"edge4\" class=\"edge\"><title>2397981657576&#45;&gt;2397981657632</title>\r\n",
       "<path fill=\"none\" stroke=\"black\" d=\"M74.179,-144.765C78.6621,-136.283 84.2484,-125.714 89.2788,-116.197\"/>\r\n",
       "<polygon fill=\"black\" stroke=\"black\" points=\"92.4837,-117.624 94.0625,-107.147 86.295,-114.353 92.4837,-117.624\"/>\r\n",
       "</g>\r\n",
       "<!-- 2397981657240 -->\r\n",
       "<g id=\"node6\" class=\"node\"><title>2397981657240</title>\r\n",
       "<ellipse fill=\"none\" stroke=\"black\" cx=\"65.5975\" cy=\"-18\" rx=\"28.6953\" ry=\"18\"/>\r\n",
       "<text text-anchor=\"middle\" x=\"65.5975\" y=\"-14.3\" font-family=\"Times New Roman,serif\" font-size=\"14.00\">RQ2</text>\r\n",
       "</g>\r\n",
       "<!-- 2397981657632&#45;&gt;2397981657240 -->\r\n",
       "<g id=\"edge5\" class=\"edge\"><title>2397981657632&#45;&gt;2397981657240</title>\r\n",
       "<path fill=\"none\" stroke=\"black\" d=\"M94.0159,-72.7646C89.5969,-64.4043 84.1059,-54.0159 79.132,-44.6059\"/>\r\n",
       "<polygon fill=\"black\" stroke=\"black\" points=\"82.1569,-42.8388 74.3894,-35.6334 75.9682,-46.11 82.1569,-42.8388\"/>\r\n",
       "</g>\r\n",
       "<!-- 2397981657016 -->\r\n",
       "<g id=\"node7\" class=\"node\"><title>2397981657016</title>\r\n",
       "<ellipse fill=\"none\" stroke=\"black\" cx=\"139.597\" cy=\"-18\" rx=\"27\" ry=\"18\"/>\r\n",
       "<text text-anchor=\"middle\" x=\"139.597\" y=\"-14.3\" font-family=\"Times New Roman,serif\" font-size=\"14.00\">SE2</text>\r\n",
       "</g>\r\n",
       "<!-- 2397981657632&#45;&gt;2397981657016 -->\r\n",
       "<g id=\"edge6\" class=\"edge\"><title>2397981657632&#45;&gt;2397981657016</title>\r\n",
       "<path fill=\"none\" stroke=\"black\" d=\"M111.179,-72.7646C115.662,-64.2831 121.248,-53.7144 126.279,-44.1974\"/>\r\n",
       "<polygon fill=\"black\" stroke=\"black\" points=\"129.484,-45.6239 131.062,-35.1473 123.295,-42.3527 129.484,-45.6239\"/>\r\n",
       "</g>\r\n",
       "<!-- 2397981656960 -->\r\n",
       "<g id=\"node10\" class=\"node\"><title>2397981656960</title>\r\n",
       "<ellipse fill=\"none\" stroke=\"black\" cx=\"213.597\" cy=\"-162\" rx=\"27\" ry=\"18\"/>\r\n",
       "<text text-anchor=\"middle\" x=\"213.597\" y=\"-158.3\" font-family=\"Times New Roman,serif\" font-size=\"14.00\">SE2</text>\r\n",
       "</g>\r\n",
       "<!-- 2397981657352&#45;&gt;2397981656960 -->\r\n",
       "<g id=\"edge9\" class=\"edge\"><title>2397981657352&#45;&gt;2397981656960</title>\r\n",
       "<path fill=\"none\" stroke=\"black\" d=\"M213.597,-215.697C213.597,-207.983 213.597,-198.712 213.597,-190.112\"/>\r\n",
       "<polygon fill=\"black\" stroke=\"black\" points=\"217.098,-190.104 213.597,-180.104 210.098,-190.104 217.098,-190.104\"/>\r\n",
       "</g>\r\n",
       "<!-- 2397981657520 -->\r\n",
       "<g id=\"node11\" class=\"node\"><title>2397981657520</title>\r\n",
       "<ellipse fill=\"none\" stroke=\"black\" cx=\"287.597\" cy=\"-162\" rx=\"28.6953\" ry=\"18\"/>\r\n",
       "<text text-anchor=\"middle\" x=\"287.597\" y=\"-158.3\" font-family=\"Times New Roman,serif\" font-size=\"14.00\">RQ2</text>\r\n",
       "</g>\r\n",
       "<!-- 2397981657352&#45;&gt;2397981657520 -->\r\n",
       "<g id=\"edge10\" class=\"edge\"><title>2397981657352&#45;&gt;2397981657520</title>\r\n",
       "<path fill=\"none\" stroke=\"black\" d=\"M228.572,-218.834C239.035,-208.938 253.191,-195.546 265.018,-184.359\"/>\r\n",
       "<polygon fill=\"black\" stroke=\"black\" points=\"267.531,-186.799 272.391,-177.385 262.721,-181.714 267.531,-186.799\"/>\r\n",
       "</g>\r\n",
       "</g>\r\n",
       "</svg>\r\n"
      ],
      "text/plain": [
       "<graphviz.dot.Digraph at 0x22e52d84160>"
      ]
     },
     "execution_count": 24,
     "metadata": {},
     "output_type": "execute_result"
    }
   ],
   "source": [
    "infix_expression = \"RQ1 + RQ2 * SE2 + RQ1 + SE2 * RQ2\"\n",
    "postfix = infix_to_postfix(infix_expression)\n",
    "tree = postfix_to_binexp_tree(postfix)\n",
    "graph = create_graph(tree.root, Digraph(comment='Binary Expression Tree'))\n",
    "graph"
   ]
  },
  {
   "cell_type": "code",
   "execution_count": 50,
   "metadata": {},
   "outputs": [
    {
     "data": {
      "text/plain": [
       "['RQ1', 'RQ2', 'SE2', '*', '+', 'RQ1', '+', 'SE2', 'RQ2', '*', '+']"
      ]
     },
     "execution_count": 50,
     "metadata": {},
     "output_type": "execute_result"
    }
   ],
   "source": [
    "infix_expression = \"RQ1 + RQ2 * SE2 + RQ1 + SE2 * RQ2\"\n",
    "postfix = infix_to_postfix(infix_expression)\n",
    "tree = postfix_to_binexp_tree(postfix)\n",
    "postfix_tokens = postfix.split(' ')\n",
    "postfix_tokens"
   ]
  },
  {
   "cell_type": "code",
   "execution_count": 58,
   "metadata": {},
   "outputs": [
    {
     "data": {
      "text/plain": [
       "'SE2'"
      ]
     },
     "execution_count": 58,
     "metadata": {},
     "output_type": "execute_result"
    }
   ],
   "source": [
    "def select_postorder(root, node_idx):\n",
    "    ''' Select node from binary tree given postorder index\n",
    "    '''\n",
    "    node = root\n",
    "    stack = []\n",
    "    last_node_visited = None\n",
    "    i = 0\n",
    "    while len(stack) > 0 or node is not None:\n",
    "        if node:\n",
    "            stack.append(node)\n",
    "            node = node.left\n",
    "        else:\n",
    "            peek_node = stack[-1]\n",
    "            if peek_node.right is not None and last_node_visited is not peek_node.right:\n",
    "                node = peek_node.right\n",
    "            else:\n",
    "                if i == node_idx:\n",
    "                    return peek_node\n",
    "                last_node_visited = stack.pop()\n",
    "                i += 1\n",
    "                \n",
    "    return None\n",
    "\n",
    "select_postorder(tree.root, 2).value"
   ]
  },
  {
   "cell_type": "code",
   "execution_count": 59,
   "metadata": {},
   "outputs": [
    {
     "data": {
      "image/svg+xml": [
       "<?xml version=\"1.0\" encoding=\"UTF-8\" standalone=\"no\"?>\r\n",
       "<!DOCTYPE svg PUBLIC \"-//W3C//DTD SVG 1.1//EN\"\r\n",
       " \"http://www.w3.org/Graphics/SVG/1.1/DTD/svg11.dtd\">\r\n",
       "<!-- Generated by graphviz version 2.38.0 (20140413.2041)\r\n",
       " -->\r\n",
       "<!-- Title: %3 Pages: 1 -->\r\n",
       "<svg width=\"65pt\" height=\"44pt\"\r\n",
       " viewBox=\"0.00 0.00 65.19 44.00\" xmlns=\"http://www.w3.org/2000/svg\" xmlns:xlink=\"http://www.w3.org/1999/xlink\">\r\n",
       "<g id=\"graph0\" class=\"graph\" transform=\"scale(1 1) rotate(0) translate(4 40)\">\r\n",
       "<title>%3</title>\r\n",
       "<polygon fill=\"white\" stroke=\"none\" points=\"-4,4 -4,-40 61.1949,-40 61.1949,4 -4,4\"/>\r\n",
       "<!-- 2397981871408 -->\r\n",
       "<g id=\"node1\" class=\"node\"><title>2397981871408</title>\r\n",
       "<ellipse fill=\"none\" stroke=\"black\" cx=\"28.5975\" cy=\"-18\" rx=\"28.6953\" ry=\"18\"/>\r\n",
       "<text text-anchor=\"middle\" x=\"28.5975\" y=\"-14.3\" font-family=\"Times New Roman,serif\" font-size=\"14.00\">RQ1</text>\r\n",
       "</g>\r\n",
       "</g>\r\n",
       "</svg>\r\n"
      ],
      "text/plain": [
       "<graphviz.dot.Digraph at 0x22e52d88358>"
      ]
     },
     "execution_count": 59,
     "metadata": {},
     "output_type": "execute_result"
    }
   ],
   "source": [
    "create_graph(select_postorder(tree.root, 0), Digraph(comment='Binary Expression Tree'))"
   ]
  }
 ],
 "metadata": {
  "kernelspec": {
   "display_name": "Python 3",
   "language": "python",
   "name": "python3"
  },
  "language_info": {
   "codemirror_mode": {
    "name": "ipython",
    "version": 3
   },
   "file_extension": ".py",
   "mimetype": "text/x-python",
   "name": "python",
   "nbconvert_exporter": "python",
   "pygments_lexer": "ipython3",
   "version": "3.6.6"
  }
 },
 "nbformat": 4,
 "nbformat_minor": 2
}
