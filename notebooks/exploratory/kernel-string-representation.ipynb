{
 "cells": [
  {
   "cell_type": "markdown",
   "metadata": {},
   "source": [
    "# Kernel String Encoding\n",
    "\n",
    "Simply interpret kernels and operations as raw strings.\n",
    "\n",
    "Example Kernel:\n",
    "\n",
    "$K_1O_1K_2K_3O_1K_5$\n",
    "\n",
    "Could be encoded as:\n",
    "\n",
    "$[1, 1, 2, 3, 1, 5]$"
   ]
  },
  {
   "cell_type": "code",
   "execution_count": 171,
   "metadata": {},
   "outputs": [],
   "source": [
    "import numpy as np"
   ]
  },
  {
   "cell_type": "code",
   "execution_count": 75,
   "metadata": {},
   "outputs": [
    {
     "name": "stdout",
     "output_type": "stream",
     "text": [
      "All possible kernels:\n"
     ]
    },
    {
     "data": {
      "text/plain": [
       "['A1', 'A2', 'A3', 'A4', 'B1', 'B2', 'B3', 'B4', 'C1', 'C2', 'C3', 'C4']"
      ]
     },
     "execution_count": 75,
     "metadata": {},
     "output_type": "execute_result"
    }
   ],
   "source": [
    "add = '+'\n",
    "mult = '*'\n",
    "\n",
    "operations = (add, mult)\n",
    "\n",
    "kernel_families = ('A', 'B', 'C')\n",
    "D = 4\n",
    "\n",
    "kernels = [fam + str(d) for fam in kernel_families for d in range(1, D + 1)]\n",
    "print('All possible kernels:')\n",
    "kernels"
   ]
  },
  {
   "cell_type": "code",
   "execution_count": 76,
   "metadata": {},
   "outputs": [],
   "source": [
    "def encode_full_kernel(kernel_list, operations):\n",
    "    full_kernel = np.empty((len(kernel_list) + len(operations)))\n",
    "    kernel_expression = []\n",
    "    for (fam, dim), op in zip(kernel_list, operations + [None]):\n",
    "        kernel_expression += [encode_kernel(fam, dim)]\n",
    "        if op is not None:\n",
    "            kernel_expression += [encode_op(op)]\n",
    "\n",
    "    full_kernel = np.array(kernel_expression)\n",
    "    \n",
    "    return full_kernel\n",
    "\n",
    "def encode_kernel(family, dim):\n",
    "    d = dim - 1\n",
    "    kernel_idx = d + D * kernel_families.index(family)\n",
    "    \n",
    "    return kernel_idx\n",
    "\n",
    "def encode_op(op):\n",
    "    return operations.index(op)\n",
    "\n",
    "def decode_op(op_encoded):\n",
    "    return operations[op_encoded]\n",
    "\n",
    "def decode_kernel(kernel_encoded):\n",
    "    return kernels[kernel_encoded]\n",
    "\n",
    "def decode_full_kernel(full_kernel):\n",
    "    kernel = ''\n",
    "    for idx, k in enumerate(full_kernel):\n",
    "        if idx % 2 is 0:\n",
    "            kernel += decode_kernel(k)\n",
    "        else:\n",
    "            kernel += decode_op(k)\n",
    "\n",
    "    return kernel"
   ]
  },
  {
   "cell_type": "code",
   "execution_count": 78,
   "metadata": {},
   "outputs": [
    {
     "data": {
      "text/plain": [
       "array([1, 0, 6, 1, 8])"
      ]
     },
     "execution_count": 78,
     "metadata": {},
     "output_type": "execute_result"
    }
   ],
   "source": [
    "# list of (kernel family, input dimension)\n",
    "kernel_list = [('A', 2), ('B', 3), ('C', 1)]\n",
    "operations = [add, mult]\n",
    "full_kernel = encode_full_kernel(kernel_list, operations)\n",
    "full_kernel"
   ]
  },
  {
   "cell_type": "code",
   "execution_count": 77,
   "metadata": {},
   "outputs": [
    {
     "data": {
      "text/plain": [
       "'A2+B3*C1'"
      ]
     },
     "execution_count": 77,
     "metadata": {},
     "output_type": "execute_result"
    }
   ],
   "source": [
    "decode_full_kernel(full_kernel)"
   ]
  },
  {
   "cell_type": "markdown",
   "metadata": {},
   "source": [
    "### Demo of Genetic Algorithm Variation"
   ]
  },
  {
   "cell_type": "code",
   "execution_count": 142,
   "metadata": {},
   "outputs": [],
   "source": [
    "def crossover_one_point(parent_1, parent_2):\n",
    "    '''One-point crossover\n",
    "    '''\n",
    "    \n",
    "    L = parent_1.size\n",
    "    crossover_point = np.random.randint(0, L)\n",
    "    child_1 = np.hstack((parent_1[:crossover_point], parent_2[crossover_point:]))\n",
    "    child_2 = np.hstack((parent_2[:crossover_point], parent_1[crossover_point:]))\n",
    "\n",
    "    return child_1, child_2"
   ]
  },
  {
   "cell_type": "code",
   "execution_count": 154,
   "metadata": {},
   "outputs": [
    {
     "data": {
      "text/plain": [
       "(array([1, 0, 6, 1, 8, 0, 0]), array([4, 1, 8, 1, 2]))"
      ]
     },
     "execution_count": 154,
     "metadata": {},
     "output_type": "execute_result"
    }
   ],
   "source": [
    "# K1 = A2 + B3 * C1 + A1\n",
    "# K2 = B1 * C1 * A3\n",
    "kernel_list_1 = [('A', 2), ('B', 3), ('C', 1), ('A', 1)]\n",
    "kernel_list_2 = [('B', 1), ('C', 1), ('A', 3)]\n",
    "operations_1 = [add, mult, add]\n",
    "operations_2 = [mult, mult]\n",
    "full_kernel_1 = encode_full_kernel(kernel_list_1, operations_1)\n",
    "full_kernel_2 = encode_full_kernel(kernel_list_2, operations_2)\n",
    "full_kernel_1, full_kernel_2"
   ]
  },
  {
   "cell_type": "code",
   "execution_count": 146,
   "metadata": {},
   "outputs": [
    {
     "data": {
      "text/plain": [
       "(array([1, 0, 6, 1, 8]), array([4, 1, 8, 1, 2, 0, 0]))"
      ]
     },
     "execution_count": 146,
     "metadata": {},
     "output_type": "execute_result"
    }
   ],
   "source": [
    "child_1, child_2 = crossover_one_point(full_kernel_1, full_kernel_2)\n",
    "child_1, child_2"
   ]
  },
  {
   "cell_type": "code",
   "execution_count": 147,
   "metadata": {},
   "outputs": [
    {
     "name": "stdout",
     "output_type": "stream",
     "text": [
      "K1 = A2+B3*C1 \n",
      "K2 = B1*C1*A3+A1\n"
     ]
    }
   ],
   "source": [
    "print(('K1 = %s \\nK2 = %s') % (decode_full_kernel(child_1), decode_full_kernel(child_2)))"
   ]
  },
  {
   "cell_type": "markdown",
   "metadata": {},
   "source": [
    "### Demo of Mutation"
   ]
  },
  {
   "cell_type": "code",
   "execution_count": 148,
   "metadata": {},
   "outputs": [],
   "source": [
    "def mutate_interchange(individual):\n",
    "    '''Interchange mutation\n",
    "    '''\n",
    "    indiv_mut = individual.copy()\n",
    "    L = indiv_mut.size\n",
    "    ind = np.random.randint(0, L, size=2)\n",
    "    # swap first and second genes\n",
    "    indiv_mut = swap(indiv_mut, ind[0], ind[1])\n",
    "\n",
    "    return indiv_mut\n",
    "\n",
    "def swap(arr, idx_1, idx_2):\n",
    "    '''Swap two array elements\n",
    "    '''\n",
    "    arr_copy = arr.copy()\n",
    "    first = arr_copy[idx_1]\n",
    "    second = arr_copy[idx_2]\n",
    "    arr_copy[idx_1] = second\n",
    "    arr_copy[idx_2] = first\n",
    "    \n",
    "    return arr_copy"
   ]
  },
  {
   "cell_type": "code",
   "execution_count": 155,
   "metadata": {},
   "outputs": [
    {
     "data": {
      "text/plain": [
       "array([1, 0, 6, 1, 8, 0, 0])"
      ]
     },
     "execution_count": 155,
     "metadata": {},
     "output_type": "execute_result"
    }
   ],
   "source": [
    "# we are going to mutute the following kernel\n",
    "# K1 = A2 + B3 * C1 + A1\n",
    "full_kernel_1"
   ]
  },
  {
   "cell_type": "code",
   "execution_count": 170,
   "metadata": {},
   "outputs": [
    {
     "name": "stdout",
     "output_type": "stream",
     "text": [
      "K_old = A2+B3*C1+A1 \n",
      "K_new = A2+B3+A1*C1\n"
     ]
    }
   ],
   "source": [
    "ops = full_kernel_1[1::2]\n",
    "kerns = full_kernel_1[::2]\n",
    "\n",
    "# mutate operations and kernels seperately\n",
    "# make sure to reduce the mutation probability\n",
    "# by 1/2\n",
    "new_kernel = np.empty((len(ops) + len(kerns)), dtype=full_kernel_1.dtype)\n",
    "new_kernel[1::2] = mutate_interchange(ops)\n",
    "new_kernel[::2]  = mutate_interchange(kerns)\n",
    "\n",
    "# which can be decoded as\n",
    "print('K_old = %s \\nK_new = %s' % (decode_full_kernel(full_kernel_1), decode_full_kernel(new_kernel)))"
   ]
  }
 ],
 "metadata": {
  "kernelspec": {
   "display_name": "Python 3",
   "language": "python",
   "name": "python3"
  },
  "language_info": {
   "codemirror_mode": {
    "name": "ipython",
    "version": 3
   },
   "file_extension": ".py",
   "mimetype": "text/x-python",
   "name": "python",
   "nbconvert_exporter": "python",
   "pygments_lexer": "ipython3",
   "version": "3.6.6"
  }
 },
 "nbformat": 4,
 "nbformat_minor": 2
}
