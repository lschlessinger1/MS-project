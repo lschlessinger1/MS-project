{
 "cells": [
  {
   "cell_type": "markdown",
   "metadata": {},
   "source": [
    "# Download Experiments\n",
    "Download a list of experiments from Google Cloud Platform (GCP)"
   ]
  },
  {
   "cell_type": "code",
   "execution_count": null,
   "metadata": {
    "pycharm": {
     "is_executing": false
    }
   },
   "outputs": [],
   "source": [
    "%load_ext autoreload\n",
    "%autoreload 2"
   ]
  },
  {
   "cell_type": "code",
   "execution_count": null,
   "metadata": {
    "pycharm": {
     "is_executing": false
    }
   },
   "outputs": [],
   "source": [
    "import os\n",
    "from pathlib import Path\n",
    "from google.cloud import storage"
   ]
  },
  {
   "cell_type": "markdown",
   "metadata": {},
   "source": [
    "## Default Parameters"
   ]
  },
  {
   "cell_type": "code",
   "execution_count": null,
   "metadata": {
    "pycharm": {
     "is_executing": false
    },
    "tags": [
     "parameters"
    ]
   },
   "outputs": [],
   "source": [
    "bucket_name = 'automated-kernel-search'\n",
    "results_dir = '/repo/results'\n",
    "result_dir = Path(Path.cwd()).parents[1].resolve() / 'results'"
   ]
  },
  {
   "cell_type": "markdown",
   "metadata": {},
   "source": [
    "## Set GCP Credentials"
   ]
  },
  {
   "cell_type": "code",
   "execution_count": null,
   "metadata": {
    "pycharm": {
     "is_executing": false
    }
   },
   "outputs": [],
   "source": [
    "os.environ['GOOGLE_APPLICATION_CREDENTIALS'] = str(Path(gcp_credentials_path).resolve())\n",
    "print(f\"Set GOOGLE_APPLICATION_CREDENTIALS to \\n{os.environ['GOOGLE_APPLICATION_CREDENTIALS']}\")"
   ]
  },
  {
   "cell_type": "markdown",
   "metadata": {},
   "source": [
    "## Create Bucket"
   ]
  },
  {
   "cell_type": "code",
   "execution_count": null,
   "metadata": {},
   "outputs": [],
   "source": [
    "storage_client = storage.Client()\n",
    "bucket = storage_client.get_bucket(bucket_name)"
   ]
  },
  {
   "cell_type": "markdown",
   "metadata": {},
   "source": [
    "## Format result directory\n",
    "(if a custom value is given)"
   ]
  },
  {
   "cell_type": "code",
   "execution_count": null,
   "metadata": {},
   "outputs": [],
   "source": [
    "if isinstance(result_dir, str):\n",
    "    result_dir = Path(result_dir)"
   ]
  },
  {
   "cell_type": "markdown",
   "metadata": {},
   "source": [
    "## Download from Google Storage"
   ]
  },
  {
   "cell_type": "code",
   "execution_count": null,
   "metadata": {
    "pycharm": {
     "is_executing": false
    }
   },
   "outputs": [],
   "source": [
    "for experiment_dir_name in experiment_dir_names:\n",
    "    # Get list of files.\n",
    "    prefix = \"/\".join((results_dir, experiment_dir_name))\n",
    "    blobs = bucket.list_blobs(prefix=prefix)\n",
    "    \n",
    "    # Create experiment group result directories.\n",
    "    result_exp_group_dir = result_dir / experiment_dir_name\n",
    "    result_exp_group_dir.mkdir(parents=True, exist_ok=True)\n",
    "    \n",
    "    # Download results.\n",
    "    for blob in blobs:\n",
    "        file_name = blob.name.split('/')[-1]\n",
    "        file_path = str(result_exp_group_dir / file_name)\n",
    "        if 'zip' in file_path:\n",
    "            # Replace .zip suffix.\n",
    "            file_path = file_path.replace('.zip', '.txt')\n",
    "        else:\n",
    "            file_path += '.txt'\n",
    "        blob.download_to_filename(file_path)\n",
    "        print(f\"Downloaded {file_path}\")"
   ]
  }
 ],
 "metadata": {
  "kernelspec": {
   "display_name": "Python 3",
   "language": "python",
   "name": "python3"
  },
  "language_info": {
   "codemirror_mode": {
    "name": "ipython",
    "version": 3
   },
   "file_extension": ".py",
   "mimetype": "text/x-python",
   "name": "python",
   "nbconvert_exporter": "python",
   "pygments_lexer": "ipython3",
   "version": "3.6.9"
  },
  "pycharm": {
   "stem_cell": {
    "cell_type": "raw",
    "metadata": {
     "collapsed": false
    },
    "source": []
   }
  }
 },
 "nbformat": 4,
 "nbformat_minor": 4
}
