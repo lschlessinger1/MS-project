{
 "cells": [
  {
   "cell_type": "markdown",
   "metadata": {},
   "source": [
    "# Incremental Bitstring Kernel Encoding"
   ]
  },
  {
   "cell_type": "markdown",
   "metadata": {},
   "source": [
    "$[(A/B/C)(+/*/Stop)] + [(A/B/C)(+/*/Stop)] + ... + [(A/B/C)(Stop)]$\n",
    "\n",
    "$[(|\\mathcal{B}|D)(|\\mathcal{O}|)] + ...$\n",
    "\n",
    "$A_1 = 1 = 0x0$\n",
    "\n",
    "$A_2 = 2 = 0x1$\n",
    "\n",
    "$A_3 = 3 = 0x10$\n",
    "\n",
    "$A_4 = 4 = 0x11$\n",
    "\n",
    "$B_1 = 5 = 0x101$\n",
    "\n",
    "$...$\n",
    "\n",
    "TODO: \n",
    "- fix dtypes\n",
    "- clarify notation and examples\n",
    "- think about how to handle stop and see if this is an encoding worth pursuing\n",
    "- refactor"
   ]
  },
  {
   "cell_type": "code",
   "execution_count": 2,
   "metadata": {},
   "outputs": [],
   "source": [
    "import numpy as np"
   ]
  },
  {
   "cell_type": "code",
   "execution_count": 34,
   "metadata": {},
   "outputs": [],
   "source": [
    "# define operations\n",
    "add  = np.array([0, 0])\n",
    "mult = np.array([0, 1])\n",
    "stop = np.array([1, 0])\n",
    "\n",
    "ops_n_bits = len(add)\n",
    "\n",
    "kernel_families = ['A', 'B', 'C']\n",
    "D = 4\n",
    "\n",
    "k_map = np.arange(len(kernel_families) * D).reshape(len(kernel_families), D)"
   ]
  },
  {
   "cell_type": "code",
   "execution_count": 39,
   "metadata": {},
   "outputs": [],
   "source": [
    "# number of bits to represent the kernel encoding\n",
    "kern_bit_length = int(np.ceil(np.log2(len(kernel_families) * D)))\n",
    "\n",
    "def encode_kernel(family, dim):\n",
    "    d = dim - 1\n",
    "    i = kernel_families.index(family)\n",
    "    binary_str = bin(k_map[i, d])[2:]\n",
    "    n_bits = len(binary_str)\n",
    "    \n",
    "    \n",
    "    kern = np.zeros(kern_bit_length)\n",
    "    binary_arr = np.array(list(binary_str))\n",
    "    kern[-n_bits:] = binary_arr\n",
    "    \n",
    "    return kern"
   ]
  },
  {
   "cell_type": "code",
   "execution_count": 40,
   "metadata": {},
   "outputs": [
    {
     "name": "stdout",
     "output_type": "stream",
     "text": [
      "A1: [0. 0. 0. 0.]\n",
      "A2: [0. 0. 0. 1.]\n",
      "A3: [0. 0. 1. 0.]\n",
      "A4: [0. 0. 1. 1.]\n",
      "\n",
      "B1: [0. 1. 0. 0.]\n",
      "B2: [0. 1. 0. 1.]\n",
      "B3: [0. 1. 1. 0.]\n",
      "B4: [0. 1. 1. 1.]\n",
      "\n",
      "C1: [1. 0. 0. 0.]\n",
      "C2: [1. 0. 0. 1.]\n",
      "C3: [1. 0. 1. 0.]\n",
      "C4: [1. 0. 1. 1.]\n",
      "\n"
     ]
    }
   ],
   "source": [
    "for family in kernel_families:\n",
    "    for d in range(1, D + 1):\n",
    "        kern_encoding = encode_kernel(family, d)\n",
    "        print(family + str(d) + ':', kern_encoding)\n",
    "    print('')"
   ]
  },
  {
   "cell_type": "code",
   "execution_count": 38,
   "metadata": {},
   "outputs": [
    {
     "name": "stdout",
     "output_type": "stream",
     "text": [
      "A1 + B2 * C4 =  [0. 0. 0. 0. 0. 0. 0. 1. 0. 1. 0. 1. 1. 0. 1. 1. 1. 0.]\n"
     ]
    }
   ],
   "source": [
    "A1 = encode_kernel('A', 1)\n",
    "B2 = encode_kernel('B', 2)\n",
    "C4 = encode_kernel('C', 4)\n",
    "\n",
    "A1_plus = np.hstack((A1, add))\n",
    "B2_mult = np.hstack((B2, mult))\n",
    "C4_stop = np.hstack((C4, stop))\n",
    "\n",
    "full_kernel = np.hstack((A1_plus, B2_mult, C4_stop))\n",
    "print('A1 + B2 * C4 = ', full_kernel)"
   ]
  },
  {
   "cell_type": "code",
   "execution_count": 30,
   "metadata": {},
   "outputs": [],
   "source": [
    "def decode_kernel(full_kernel):\n",
    "    # first split into units A1_plus, B2_mult, C4_stop\n",
    "    # define unit = kernel + operation. e.g. A3* or B4 stop\n",
    "    n_bits_per_unit = kern_bit_length + ops_n_bits\n",
    "    unit_sections = [hop_size for hop_size in range(n_bits_per_unit, len(full_kernel), n_bits_per_unit)]\n",
    "    units = np.split(full_kernel, unit_sections)\n",
    "\n",
    "    kernel_dec = ''\n",
    "    for unit in units:\n",
    "        # split into kernel and operation\n",
    "        kernel, op = np.split(unit, [kern_bit_length])\n",
    "        # decode kernel\n",
    "        binary_str = ''.join(str(int(b)) for b in kernel.tolist())\n",
    "        kern_int = int(binary_str, 2)\n",
    "        i = (int)(kern_int / D)\n",
    "        d = kern_int % D\n",
    "        dim = d + 1\n",
    "        family = kernel_families[i]\n",
    "\n",
    "        kernel_dec += family + str(dim)\n",
    "        \n",
    "        # decode operation\n",
    "        operation = ''\n",
    "        if np.array_equal(op, add):\n",
    "            operation = ' + '\n",
    "        elif np.array_equal(op, mult):\n",
    "            operation = ' * '\n",
    "        elif np.array_equal(op, stop):\n",
    "            operation = ' Stop'\n",
    "            \n",
    "        kernel_dec += operation\n",
    "        \n",
    "    return kernel_dec"
   ]
  },
  {
   "cell_type": "code",
   "execution_count": 32,
   "metadata": {},
   "outputs": [
    {
     "data": {
      "text/plain": [
       "'A1 + B2 * C4 Stop'"
      ]
     },
     "execution_count": 32,
     "metadata": {},
     "output_type": "execute_result"
    }
   ],
   "source": [
    "decode_kernel(full_kernel)"
   ]
  },
  {
   "cell_type": "code",
   "execution_count": 33,
   "metadata": {},
   "outputs": [
    {
     "name": "stdout",
     "output_type": "stream",
     "text": [
      "A1: [0. 0. 0. 0.] decoded as: A1\n",
      "A2: [0. 0. 0. 1.] decoded as: A2\n",
      "A3: [0. 0. 1. 0.] decoded as: A3\n",
      "A4: [0. 0. 1. 1.] decoded as: A4\n",
      "\n",
      "B1: [0. 1. 0. 0.] decoded as: B1\n",
      "B2: [0. 1. 0. 1.] decoded as: B2\n",
      "B3: [0. 1. 1. 0.] decoded as: B3\n",
      "B4: [0. 1. 1. 1.] decoded as: B4\n",
      "\n",
      "C1: [1. 0. 0. 0.] decoded as: C1\n",
      "C2: [1. 0. 0. 1.] decoded as: C2\n",
      "C3: [1. 0. 1. 0.] decoded as: C3\n",
      "C4: [1. 0. 1. 1.] decoded as: C4\n",
      "\n"
     ]
    }
   ],
   "source": [
    "for family in kernel_families:\n",
    "    for d in range(1, D + 1):\n",
    "        kern_encoding = encode_kernel(family, d)\n",
    "        kern_decoding = decode_kernel(kern_encoding)\n",
    "        print(family + str(d) + ':', kern_encoding, 'decoded as:', kern_decoding)\n",
    "    print('')"
   ]
  },
  {
   "cell_type": "markdown",
   "metadata": {},
   "source": [
    "Problems:"
   ]
  },
  {
   "cell_type": "markdown",
   "metadata": {},
   "source": [
    "what about unused part of bitstring space?\n",
    "why do I need stop operation?"
   ]
  }
 ],
 "metadata": {
  "kernelspec": {
   "display_name": "Python 3",
   "language": "python",
   "name": "python3"
  },
  "language_info": {
   "codemirror_mode": {
    "name": "ipython",
    "version": 3
   },
   "file_extension": ".py",
   "mimetype": "text/x-python",
   "name": "python",
   "nbconvert_exporter": "python",
   "pygments_lexer": "ipython3",
   "version": "3.6.6"
  }
 },
 "nbformat": 4,
 "nbformat_minor": 2
}
