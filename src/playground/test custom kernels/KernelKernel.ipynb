{
 "cells": [
  {
   "cell_type": "markdown",
   "metadata": {},
   "source": [
    "# Implementation of a 'Kernel Kernel'\n",
    "\n",
    "It can take any arbitrary distance metric."
   ]
  },
  {
   "cell_type": "code",
   "execution_count": 1,
   "metadata": {},
   "outputs": [],
   "source": [
    "from GPy.kern import Kern\n",
    "from GPy.kern.src.stationary import Stationary\n",
    "from paramz.transformations import Logexp\n",
    "from paramz.caching import Cache_this\n",
    "from GPy.kern.src.psi_comp import PSICOMP_RBF, PSICOMP_RBF_GPU\n",
    "from GPy.core import Param\n",
    "\n",
    "# non-standard imports\n",
    "from typing import List\n",
    "from scipy.spatial.distance import cdist"
   ]
  },
  {
   "cell_type": "code",
   "execution_count": 2,
   "metadata": {},
   "outputs": [],
   "source": [
    "class KernelKernel(Stationary):\n",
    "    \"\"\"Kernel kernel\"\"\"\n",
    "    _support_GPU = True\n",
    "    def __init__(self, distance_metric, input_dim=1, variance=1., lengthscale=None, ARD=False, active_dims=None, name='kernel_kernel', useGPU=False, inv_l=False):\n",
    "        super(KernelKernel, self).__init__(input_dim, variance, lengthscale, ARD, active_dims, name, useGPU=useGPU)\n",
    "        if self.useGPU:\n",
    "            self.psicomp = PSICOMP_RBF_GPU()\n",
    "        else:\n",
    "            self.psicomp = PSICOMP_RBF()\n",
    "        self.use_invLengthscale = inv_l\n",
    "        if inv_l:\n",
    "            self.unlink_parameter(self.lengthscale)\n",
    "            self.inv_l = Param('inv_lengthscale',1./self.lengthscale**2, Logexp())\n",
    "            self.link_parameter(self.inv_l)\n",
    "            \n",
    "        self.dist_metric = distance_metric\n",
    "            \n",
    "    ### overrride this\n",
    "    \n",
    "    def _unscaled_dist(self, X, X2=None):\n",
    "        \"\"\"\n",
    "        Compute the Euclidean distance between each row of X and X2, or between\n",
    "        each pair of rows of X if X2 is None.\n",
    "        \"\"\"\n",
    "        if X2 is None:\n",
    "            X2 = X\n",
    "        r = cdist(X, X2, self.dist_metric)\n",
    "        return r\n",
    "    \n",
    "    \n",
    "    ### overrride this\n",
    "    @Cache_this(limit=3, ignore_args=())\n",
    "    def _scaled_dist(self, X, X2=None):\n",
    "        \"\"\"\n",
    "        Efficiently compute the scaled distance, r.\n",
    "\n",
    "        ..math::\n",
    "            r = \\sqrt( \\sum_{q=1}^Q (x_q - x'q)^2/l_q^2 )\n",
    "\n",
    "        Note that if thre is only one lengthscale, l comes outside the sum. In\n",
    "        this case we compute the unscaled distance first (in a separate\n",
    "        function for caching) and divide by lengthscale afterwards\n",
    "\n",
    "        \"\"\"\n",
    "        if self.ARD:\n",
    "            # FIXME: currently ARD has no effect because input dim always = 1\n",
    "#             if X2 is not None:\n",
    "#                 X2 = X2 / self.lengthscale\n",
    "#             return self._unscaled_dist(X/self.lengthscale, X2)\n",
    "            return self._unscaled_dist(X, X2)/self.lengthscale\n",
    "        else:\n",
    "            return self._unscaled_dist(X, X2)/self.lengthscale\n",
    "    \n",
    "    ###\n",
    "\n",
    "    def to_dict(self):\n",
    "        \"\"\"\n",
    "        Convert the object into a json serializable dictionary.\n",
    "\n",
    "        Note: It uses the private method _save_to_input_dict of the parent.\n",
    "\n",
    "        :return dict: json serializable dictionary containing the needed information to instantiate the object\n",
    "        \"\"\"\n",
    "\n",
    "        input_dict = super(KernelKernel, self)._save_to_input_dict()\n",
    "        input_dict[\"class\"] = \"GPy.kern.KernelKernel\"\n",
    "        input_dict[\"inv_l\"] = self.use_invLengthscale\n",
    "        if input_dict[\"inv_l\"] == True:\n",
    "            input_dict[\"lengthscale\"] = np.sqrt(1 / float(self.inv_l))\n",
    "        return input_dict\n",
    "\n",
    "    def K_of_r(self, r):\n",
    "        return self.variance * np.exp(-0.5 * r**2)\n",
    "\n",
    "    def dK_dr(self, r):\n",
    "        return -r*self.K_of_r(r)\n",
    "\n",
    "    def dK2_drdr(self, r):\n",
    "        return (r**2-1)*self.K_of_r(r)\n",
    "\n",
    "    def dK2_drdr_diag(self):\n",
    "        return -self.variance # as the diagonal of r is always filled with zeros\n",
    "\n",
    "    def __getstate__(self):\n",
    "        dc = super(KernelKernel, self).__getstate__()\n",
    "        if self.useGPU:\n",
    "            dc['psicomp'] = PSICOMP_RBF()\n",
    "            dc['useGPU'] = False\n",
    "        return dc\n",
    "\n",
    "    def __setstate__(self, state):\n",
    "        self.use_invLengthscale = False\n",
    "        return super(KernelKernel, self).__setstate__(state)\n",
    "\n",
    "    def spectrum(self, omega):\n",
    "        assert self.input_dim == 1 #TODO: higher dim spectra?\n",
    "        return self.variance*np.sqrt(2*np.pi)*self.lengthscale*np.exp(-self.lengthscale*2*omega**2/2)\n",
    "\n",
    "    def parameters_changed(self):\n",
    "        if self.use_invLengthscale: self.lengthscale[:] = 1./np.sqrt(self.inv_l+1e-200)\n",
    "        super(KernelKernel, self).parameters_changed()\n",
    "\n",
    "    #---------------------------------------#\n",
    "    #             PSI statistics            #\n",
    "    #---------------------------------------#\n",
    "\n",
    "    def psi0(self, Z, variational_posterior):\n",
    "        return self.psicomp.psicomputations(self, Z, variational_posterior)[0]\n",
    "\n",
    "    def psi1(self, Z, variational_posterior):\n",
    "        return self.psicomp.psicomputations(self, Z, variational_posterior)[1]\n",
    "\n",
    "    def psi2(self, Z, variational_posterior):\n",
    "        return self.psicomp.psicomputations(self, Z, variational_posterior, return_psi2_n=False)[2]\n",
    "\n",
    "    def psi2n(self, Z, variational_posterior):\n",
    "        return self.psicomp.psicomputations(self, Z, variational_posterior, return_psi2_n=True)[2]\n",
    "\n",
    "    def update_gradients_expectations(self, dL_dpsi0, dL_dpsi1, dL_dpsi2, Z, variational_posterior):\n",
    "        dL_dvar, dL_dlengscale = self.psicomp.psiDerivativecomputations(self, dL_dpsi0, dL_dpsi1, dL_dpsi2, Z, variational_posterior)[:2]\n",
    "        self.variance.gradient = dL_dvar\n",
    "        self.lengthscale.gradient = dL_dlengscale\n",
    "        if self.use_invLengthscale:\n",
    "            self.inv_l.gradient = dL_dlengscale*(self.lengthscale**3/-2.)\n",
    "\n",
    "    def gradients_Z_expectations(self, dL_dpsi0, dL_dpsi1, dL_dpsi2, Z, variational_posterior):\n",
    "        return self.psicomp.psiDerivativecomputations(self, dL_dpsi0, dL_dpsi1, dL_dpsi2, Z, variational_posterior)[2]\n",
    "\n",
    "    def gradients_qX_expectations(self, dL_dpsi0, dL_dpsi1, dL_dpsi2, Z, variational_posterior):\n",
    "        return self.psicomp.psiDerivativecomputations(self, dL_dpsi0, dL_dpsi1, dL_dpsi2, Z, variational_posterior)[3:]\n",
    "\n",
    "    def update_gradients_diag(self, dL_dKdiag, X):\n",
    "        super(KernelKernel,self).update_gradients_diag(dL_dKdiag, X)\n",
    "        if self.use_invLengthscale: self.inv_l.gradient =self.lengthscale.gradient*(self.lengthscale**3/-2.)\n",
    "\n",
    "    def update_gradients_full(self, dL_dK, X, X2=None):\n",
    "        super(KernelKernel,self).update_gradients_full(dL_dK, X, X2)\n",
    "        if self.use_invLengthscale: self.inv_l.gradient =self.lengthscale.gradient*(self.lengthscale**3/-2.)"
   ]
  },
  {
   "cell_type": "markdown",
   "metadata": {},
   "source": [
    "### Demo "
   ]
  },
  {
   "cell_type": "code",
   "execution_count": 3,
   "metadata": {},
   "outputs": [],
   "source": [
    "import numpy as np\n",
    "from GPy.kern import RBF, RatQuad\n",
    "from GPy.kern.src.kern import CombinationKernel"
   ]
  },
  {
   "cell_type": "code",
   "execution_count": 4,
   "metadata": {},
   "outputs": [],
   "source": [
    "# simple, dummy distance metric\n",
    "def distance_metric(u, v):\n",
    "    k1, k2 = u[0], v[0]\n",
    "    n1 = 1 if not isinstance(k1, CombinationKernel) else len(k1.parts) + 1\n",
    "    n2 = 1 if not isinstance(k2, CombinationKernel) else len(k2.parts) + 1\n",
    "    return abs(n1 - n2)"
   ]
  },
  {
   "cell_type": "code",
   "execution_count": 5,
   "metadata": {},
   "outputs": [
    {
     "data": {
      "text/plain": [
       "(3, 1)"
      ]
     },
     "execution_count": 5,
     "metadata": {},
     "output_type": "execute_result"
    }
   ],
   "source": [
    "kernels = np.array([[RBF(1)], [RBF(1)*RBF(1)], [RatQuad(1)]])\n",
    "kernels.shape"
   ]
  },
  {
   "cell_type": "code",
   "execution_count": 6,
   "metadata": {},
   "outputs": [
    {
     "data": {
      "text/html": [
       "<style type=\"text/css\">\n",
       ".tg  {font-family:\"Courier New\", Courier, monospace !important;padding:2px 3px;word-break:normal;border-collapse:collapse;border-spacing:0;border-color:#DCDCDC;margin:0px auto;width:100%;}\n",
       ".tg td{font-family:\"Courier New\", Courier, monospace !important;font-weight:bold;color:#444;background-color:#F7FDFA;border-style:solid;border-width:1px;overflow:hidden;word-break:normal;border-color:#DCDCDC;}\n",
       ".tg th{font-family:\"Courier New\", Courier, monospace !important;font-weight:normal;color:#fff;background-color:#26ADE4;border-style:solid;border-width:1px;overflow:hidden;word-break:normal;border-color:#DCDCDC;}\n",
       ".tg .tg-left{font-family:\"Courier New\", Courier, monospace !important;font-weight:normal;text-align:left;}\n",
       ".tg .tg-center{font-family:\"Courier New\", Courier, monospace !important;font-weight:normal;text-align:center;}\n",
       ".tg .tg-right{font-family:\"Courier New\", Courier, monospace !important;font-weight:normal;text-align:right;}\n",
       "</style>\n",
       "<table class=\"tg\"><tr><th><b>  kernel_kernel.</b></th><th><b>value</b></th><th><b>constraints</b></th><th><b>priors</b></th></tr>\n",
       "<tr><td class=tg-left>  variance      </td><td class=tg-right>  1.0</td><td class=tg-center>    +ve    </td><td class=tg-center>      </td></tr>\n",
       "<tr><td class=tg-left>  lengthscale   </td><td class=tg-right>  1.0</td><td class=tg-center>    +ve    </td><td class=tg-center>      </td></tr>\n",
       "</table>"
      ],
      "text/plain": [
       "<__main__.KernelKernel at 0x2b85cf7c518>"
      ]
     },
     "execution_count": 6,
     "metadata": {},
     "output_type": "execute_result"
    }
   ],
   "source": [
    "kernel_kernel = KernelKernel(distance_metric)\n",
    "kernel_kernel"
   ]
  },
  {
   "cell_type": "code",
   "execution_count": 7,
   "metadata": {},
   "outputs": [
    {
     "data": {
      "text/plain": [
       "array([[1.        , 0.13533528, 1.        ],\n",
       "       [0.13533528, 1.        , 0.13533528],\n",
       "       [1.        , 0.13533528, 1.        ]])"
      ]
     },
     "execution_count": 7,
     "metadata": {},
     "output_type": "execute_result"
    }
   ],
   "source": [
    "kernel_kernel.K(kernels)"
   ]
  }
 ],
 "metadata": {
  "kernelspec": {
   "display_name": "Python 3",
   "language": "python",
   "name": "python3"
  },
  "language_info": {
   "codemirror_mode": {
    "name": "ipython",
    "version": 3
   },
   "file_extension": ".py",
   "mimetype": "text/x-python",
   "name": "python",
   "nbconvert_exporter": "python",
   "pygments_lexer": "ipython3",
   "version": "3.6.8"
  }
 },
 "nbformat": 4,
 "nbformat_minor": 2
}
