{
 "cells": [
  {
   "cell_type": "markdown",
   "metadata": {},
   "source": [
    "# One-Hot Kernel Encoding\n",
    "Based on [Structured Variationally Auto-encoded Optimization (Lu et al., 2018)](http://proceedings.mlr.press/v80/lu18c/lu18c.pdf)\n",
    "\n",
    "Suppose we have a set of base kernels $\\mathcal{B} = \\{A, B, C\\}$ and a set of operations $\\mathcal{O} = \\{+, \\times, Stop\\}$\n",
    "\n",
    "$\\hat{B} = \\{A_1, A_2, ..., A_D, \n",
    "B_1, B_2, ..., B_D, \n",
    "C_1, C_2, ..., C_D\\}$\n",
    "\n",
    "\n",
    "\\begin{bmatrix} \n",
    "A_1 & B_1 & C_1 \\\\\n",
    "A_2 & B_2 & C_2 \\\\\n",
    "\\vdots & \\vdots & \\vdots \\\\\n",
    "A_D & B_D & C_D\n",
    "\\end{bmatrix}\n",
    "\n",
    "We will 1-hot encode vectors for both, kernels and operations. We need $|\\mathcal{B}|D$ bits to reprensent a kernel applied to a single dimension.\n",
    "\n",
    "Any expression $S$ is transformed into a binary vector by recurrently attaching the 1-hot vectors of each kernel and operation. When the operation is Stop the vector is completed with zeros. For example, let $D=8$ and let $N_{max}$ be the number of operations. \n",
    "\n",
    "$A_1 + B_2 * C_8$ Stop ...\n",
    "\n",
    "100000000000000000000000 100 000000000100000000000000 010 000000000000000000000001 001 000"
   ]
  },
  {
   "cell_type": "markdown",
   "metadata": {},
   "source": [
    "Kernel Encoding: $ABC$\n",
    "\n",
    "$A_1: 1000 0000 0000 0000 0000 0000$\n",
    "\n",
    "$A_2: 0100 0000 0000 0000 0000 0000$\n",
    "\n",
    "$B_1: 0000 0000 1000 0000 0000 0000$\n",
    "\n",
    "$B_2: 0000 0000 0100 0000 0000 0000$\n",
    "\n",
    "$C_1: 0000 0000 0000 0000 1000 0000$\n",
    "\n",
    "$C_1: 0000 0000 0000 0000 0100 0000$\n",
    "\n",
    "$C_8: 0000 0000 0000 0000 0000 0001$"
   ]
  },
  {
   "cell_type": "code",
   "execution_count": 10,
   "metadata": {},
   "outputs": [],
   "source": [
    "# one-hot encode operations\n",
    "add  = bin(0b100) # 0b100\n",
    "mult = bin(0b010) # 0b010\n",
    "stop = bin(0b001) # 0b001\n",
    "\n",
    "kernel_families = ['A', 'B', 'C']\n",
    "D = 4\n",
    "\n",
    "def encode_kernel(family, dim):\n",
    "    i = kernel_families.index(family) + 1\n",
    "    shift = i * D - dim\n",
    "    return 0b1 << shift"
   ]
  },
  {
   "cell_type": "code",
   "execution_count": 11,
   "metadata": {},
   "outputs": [
    {
     "name": "stdout",
     "output_type": "stream",
     "text": [
      "A1: 000000001000\n",
      "A2: 000000000100\n",
      "A3: 000000000010\n",
      "A4: 000000000001\n",
      "\n",
      "B1: 000010000000\n",
      "B2: 000001000000\n",
      "B3: 000000100000\n",
      "B4: 000000010000\n",
      "\n",
      "C1: 100000000000\n",
      "C2: 010000000000\n",
      "C3: 001000000000\n",
      "C4: 000100000000\n",
      "\n"
     ]
    }
   ],
   "source": [
    "n_bits = int(len(kernel_families) * D)\n",
    "for family in kernel_families:\n",
    "    for d in range(1, D + 1):\n",
    "        kern_encoding = encode_kernel(family, d)\n",
    "        print(family + str(d) + ':', format(kern_encoding, '0' + str(n_bits) +'b'))\n",
    "    print('')"
   ]
  },
  {
   "cell_type": "code",
   "execution_count": 12,
   "metadata": {},
   "outputs": [
    {
     "name": "stdout",
     "output_type": "stream",
     "text": [
      "A1 + B2 * C8 =  0b10000b1000b10000000b100b100000b10b0\n"
     ]
    }
   ],
   "source": [
    "A1 = encode_kernel('A', 1)\n",
    "B2 = encode_kernel('B', 2)\n",
    "C8 = encode_kernel('C', 8)\n",
    "print('A1 + B2 * C8 = ', bin(A1) + add + bin(B2) + mult  + bin(C8) + stop + bin(0b000))"
   ]
  },
  {
   "cell_type": "code",
   "execution_count": 13,
   "metadata": {},
   "outputs": [
    {
     "data": {
      "text/plain": [
       "'0b100'"
      ]
     },
     "execution_count": 13,
     "metadata": {},
     "output_type": "execute_result"
    }
   ],
   "source": [
    "add"
   ]
  }
 ],
 "metadata": {
  "kernelspec": {
   "display_name": "Python 3",
   "language": "python",
   "name": "python3"
  },
  "language_info": {
   "codemirror_mode": {
    "name": "ipython",
    "version": 3
   },
   "file_extension": ".py",
   "mimetype": "text/x-python",
   "name": "python",
   "nbconvert_exporter": "python",
   "pygments_lexer": "ipython3",
   "version": "3.6.6"
  }
 },
 "nbformat": 4,
 "nbformat_minor": 2
}
